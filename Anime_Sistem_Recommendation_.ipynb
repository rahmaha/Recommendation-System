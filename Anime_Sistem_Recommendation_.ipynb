{
  "nbformat": 4,
  "nbformat_minor": 0,
  "metadata": {
    "colab": {
      "name": "Anime Sistem Recommendation.",
      "provenance": [],
      "collapsed_sections": [],
      "toc_visible": true
    },
    "kernelspec": {
      "name": "python3",
      "display_name": "Python 3"
    },
    "language_info": {
      "name": "python"
    }
  },
  "cells": [
    {
      "cell_type": "markdown",
      "source": [
        "## Load Data\n",
        "\n",
        "Pertama yang perlu dilakukan adalah load data terlebih dahulu dari drive. Data ditaruh di drive dikarenakan kemudahan dalam mengakses."
      ],
      "metadata": {
        "id": "PDNmkYkb8M90"
      }
    },
    {
      "cell_type": "code",
      "execution_count": 1,
      "metadata": {
        "colab": {
          "base_uri": "https://localhost:8080/"
        },
        "id": "erAYwp2-1l6Y",
        "outputId": "0165bdd0-b119-4f47-a137-febd8dc1b4a8"
      },
      "outputs": [
        {
          "output_type": "stream",
          "name": "stdout",
          "text": [
            "Mounted at /content/drive\n"
          ]
        }
      ],
      "source": [
        "from google.colab import drive\n",
        "drive.mount('/content/drive')"
      ]
    },
    {
      "cell_type": "markdown",
      "source": [
        "## Import Library\n",
        "import library yang diperlukan"
      ],
      "metadata": {
        "id": "lZSrvpKd8-pH"
      }
    },
    {
      "cell_type": "code",
      "source": [
        "import pandas as pd\n",
        "import seaborn as sns\n",
        "import matplotlib.pyplot as plt\n",
        "import numpy as np\n",
        "import scipy as sp\n",
        "from sklearn.metrics.pairwise import cosine_similarity\n",
        "import operator"
      ],
      "metadata": {
        "id": "7WWJw7Mt82u_"
      },
      "execution_count": 2,
      "outputs": []
    },
    {
      "cell_type": "markdown",
      "source": [
        "## Load Data\n",
        "\n",
        "Pengecekan data dalam dataset. Dikarenakan terdapat 2 file csv maka akan dilakukan pengecekan beberapa kali."
      ],
      "metadata": {
        "id": "o1XXrWfN9V6Z"
      }
    },
    {
      "cell_type": "code",
      "source": [
        "#pengecekan dataset anime\n",
        "\n",
        "anime_data = pd.read_csv('/content/drive/MyDrive/data/Anime_Recommendation /anime.csv')\n",
        "anime_data"
      ],
      "metadata": {
        "colab": {
          "base_uri": "https://localhost:8080/",
          "height": 554
        },
        "id": "ppdxNRD69K24",
        "outputId": "30b67430-4e3c-47e2-aed8-bd4c66483098"
      },
      "execution_count": 25,
      "outputs": [
        {
          "output_type": "execute_result",
          "data": {
            "text/plain": [
              "       anime_id                                               name  \\\n",
              "0         32281                                     Kimi no Na wa.   \n",
              "1          5114                   Fullmetal Alchemist: Brotherhood   \n",
              "2         28977                                           Gintama°   \n",
              "3          9253                                        Steins;Gate   \n",
              "4          9969                                      Gintama&#039;   \n",
              "...         ...                                                ...   \n",
              "12289      9316       Toushindai My Lover: Minami tai Mecha-Minami   \n",
              "12290      5543                                        Under World   \n",
              "12291      5621                     Violence Gekiga David no Hoshi   \n",
              "12292      6133  Violence Gekiga Shin David no Hoshi: Inma Dens...   \n",
              "12293     26081                   Yasuji no Pornorama: Yacchimae!!   \n",
              "\n",
              "                                                   genre   type episodes  \\\n",
              "0                   Drama, Romance, School, Supernatural  Movie        1   \n",
              "1      Action, Adventure, Drama, Fantasy, Magic, Mili...     TV       64   \n",
              "2      Action, Comedy, Historical, Parody, Samurai, S...     TV       51   \n",
              "3                                       Sci-Fi, Thriller     TV       24   \n",
              "4      Action, Comedy, Historical, Parody, Samurai, S...     TV       51   \n",
              "...                                                  ...    ...      ...   \n",
              "12289                                             Hentai    OVA        1   \n",
              "12290                                             Hentai    OVA        1   \n",
              "12291                                             Hentai    OVA        4   \n",
              "12292                                             Hentai    OVA        1   \n",
              "12293                                             Hentai  Movie        1   \n",
              "\n",
              "       rating  members  \n",
              "0        9.37   200630  \n",
              "1        9.26   793665  \n",
              "2        9.25   114262  \n",
              "3        9.17   673572  \n",
              "4        9.16   151266  \n",
              "...       ...      ...  \n",
              "12289    4.15      211  \n",
              "12290    4.28      183  \n",
              "12291    4.88      219  \n",
              "12292    4.98      175  \n",
              "12293    5.46      142  \n",
              "\n",
              "[12294 rows x 7 columns]"
            ],
            "text/html": [
              "\n",
              "  <div id=\"df-84357709-b0cf-45ab-9345-f9693f36fe61\">\n",
              "    <div class=\"colab-df-container\">\n",
              "      <div>\n",
              "<style scoped>\n",
              "    .dataframe tbody tr th:only-of-type {\n",
              "        vertical-align: middle;\n",
              "    }\n",
              "\n",
              "    .dataframe tbody tr th {\n",
              "        vertical-align: top;\n",
              "    }\n",
              "\n",
              "    .dataframe thead th {\n",
              "        text-align: right;\n",
              "    }\n",
              "</style>\n",
              "<table border=\"1\" class=\"dataframe\">\n",
              "  <thead>\n",
              "    <tr style=\"text-align: right;\">\n",
              "      <th></th>\n",
              "      <th>anime_id</th>\n",
              "      <th>name</th>\n",
              "      <th>genre</th>\n",
              "      <th>type</th>\n",
              "      <th>episodes</th>\n",
              "      <th>rating</th>\n",
              "      <th>members</th>\n",
              "    </tr>\n",
              "  </thead>\n",
              "  <tbody>\n",
              "    <tr>\n",
              "      <th>0</th>\n",
              "      <td>32281</td>\n",
              "      <td>Kimi no Na wa.</td>\n",
              "      <td>Drama, Romance, School, Supernatural</td>\n",
              "      <td>Movie</td>\n",
              "      <td>1</td>\n",
              "      <td>9.37</td>\n",
              "      <td>200630</td>\n",
              "    </tr>\n",
              "    <tr>\n",
              "      <th>1</th>\n",
              "      <td>5114</td>\n",
              "      <td>Fullmetal Alchemist: Brotherhood</td>\n",
              "      <td>Action, Adventure, Drama, Fantasy, Magic, Mili...</td>\n",
              "      <td>TV</td>\n",
              "      <td>64</td>\n",
              "      <td>9.26</td>\n",
              "      <td>793665</td>\n",
              "    </tr>\n",
              "    <tr>\n",
              "      <th>2</th>\n",
              "      <td>28977</td>\n",
              "      <td>Gintama°</td>\n",
              "      <td>Action, Comedy, Historical, Parody, Samurai, S...</td>\n",
              "      <td>TV</td>\n",
              "      <td>51</td>\n",
              "      <td>9.25</td>\n",
              "      <td>114262</td>\n",
              "    </tr>\n",
              "    <tr>\n",
              "      <th>3</th>\n",
              "      <td>9253</td>\n",
              "      <td>Steins;Gate</td>\n",
              "      <td>Sci-Fi, Thriller</td>\n",
              "      <td>TV</td>\n",
              "      <td>24</td>\n",
              "      <td>9.17</td>\n",
              "      <td>673572</td>\n",
              "    </tr>\n",
              "    <tr>\n",
              "      <th>4</th>\n",
              "      <td>9969</td>\n",
              "      <td>Gintama&amp;#039;</td>\n",
              "      <td>Action, Comedy, Historical, Parody, Samurai, S...</td>\n",
              "      <td>TV</td>\n",
              "      <td>51</td>\n",
              "      <td>9.16</td>\n",
              "      <td>151266</td>\n",
              "    </tr>\n",
              "    <tr>\n",
              "      <th>...</th>\n",
              "      <td>...</td>\n",
              "      <td>...</td>\n",
              "      <td>...</td>\n",
              "      <td>...</td>\n",
              "      <td>...</td>\n",
              "      <td>...</td>\n",
              "      <td>...</td>\n",
              "    </tr>\n",
              "    <tr>\n",
              "      <th>12289</th>\n",
              "      <td>9316</td>\n",
              "      <td>Toushindai My Lover: Minami tai Mecha-Minami</td>\n",
              "      <td>Hentai</td>\n",
              "      <td>OVA</td>\n",
              "      <td>1</td>\n",
              "      <td>4.15</td>\n",
              "      <td>211</td>\n",
              "    </tr>\n",
              "    <tr>\n",
              "      <th>12290</th>\n",
              "      <td>5543</td>\n",
              "      <td>Under World</td>\n",
              "      <td>Hentai</td>\n",
              "      <td>OVA</td>\n",
              "      <td>1</td>\n",
              "      <td>4.28</td>\n",
              "      <td>183</td>\n",
              "    </tr>\n",
              "    <tr>\n",
              "      <th>12291</th>\n",
              "      <td>5621</td>\n",
              "      <td>Violence Gekiga David no Hoshi</td>\n",
              "      <td>Hentai</td>\n",
              "      <td>OVA</td>\n",
              "      <td>4</td>\n",
              "      <td>4.88</td>\n",
              "      <td>219</td>\n",
              "    </tr>\n",
              "    <tr>\n",
              "      <th>12292</th>\n",
              "      <td>6133</td>\n",
              "      <td>Violence Gekiga Shin David no Hoshi: Inma Dens...</td>\n",
              "      <td>Hentai</td>\n",
              "      <td>OVA</td>\n",
              "      <td>1</td>\n",
              "      <td>4.98</td>\n",
              "      <td>175</td>\n",
              "    </tr>\n",
              "    <tr>\n",
              "      <th>12293</th>\n",
              "      <td>26081</td>\n",
              "      <td>Yasuji no Pornorama: Yacchimae!!</td>\n",
              "      <td>Hentai</td>\n",
              "      <td>Movie</td>\n",
              "      <td>1</td>\n",
              "      <td>5.46</td>\n",
              "      <td>142</td>\n",
              "    </tr>\n",
              "  </tbody>\n",
              "</table>\n",
              "<p>12294 rows × 7 columns</p>\n",
              "</div>\n",
              "      <button class=\"colab-df-convert\" onclick=\"convertToInteractive('df-84357709-b0cf-45ab-9345-f9693f36fe61')\"\n",
              "              title=\"Convert this dataframe to an interactive table.\"\n",
              "              style=\"display:none;\">\n",
              "        \n",
              "  <svg xmlns=\"http://www.w3.org/2000/svg\" height=\"24px\"viewBox=\"0 0 24 24\"\n",
              "       width=\"24px\">\n",
              "    <path d=\"M0 0h24v24H0V0z\" fill=\"none\"/>\n",
              "    <path d=\"M18.56 5.44l.94 2.06.94-2.06 2.06-.94-2.06-.94-.94-2.06-.94 2.06-2.06.94zm-11 1L8.5 8.5l.94-2.06 2.06-.94-2.06-.94L8.5 2.5l-.94 2.06-2.06.94zm10 10l.94 2.06.94-2.06 2.06-.94-2.06-.94-.94-2.06-.94 2.06-2.06.94z\"/><path d=\"M17.41 7.96l-1.37-1.37c-.4-.4-.92-.59-1.43-.59-.52 0-1.04.2-1.43.59L10.3 9.45l-7.72 7.72c-.78.78-.78 2.05 0 2.83L4 21.41c.39.39.9.59 1.41.59.51 0 1.02-.2 1.41-.59l7.78-7.78 2.81-2.81c.8-.78.8-2.07 0-2.86zM5.41 20L4 18.59l7.72-7.72 1.47 1.35L5.41 20z\"/>\n",
              "  </svg>\n",
              "      </button>\n",
              "      \n",
              "  <style>\n",
              "    .colab-df-container {\n",
              "      display:flex;\n",
              "      flex-wrap:wrap;\n",
              "      gap: 12px;\n",
              "    }\n",
              "\n",
              "    .colab-df-convert {\n",
              "      background-color: #E8F0FE;\n",
              "      border: none;\n",
              "      border-radius: 50%;\n",
              "      cursor: pointer;\n",
              "      display: none;\n",
              "      fill: #1967D2;\n",
              "      height: 32px;\n",
              "      padding: 0 0 0 0;\n",
              "      width: 32px;\n",
              "    }\n",
              "\n",
              "    .colab-df-convert:hover {\n",
              "      background-color: #E2EBFA;\n",
              "      box-shadow: 0px 1px 2px rgba(60, 64, 67, 0.3), 0px 1px 3px 1px rgba(60, 64, 67, 0.15);\n",
              "      fill: #174EA6;\n",
              "    }\n",
              "\n",
              "    [theme=dark] .colab-df-convert {\n",
              "      background-color: #3B4455;\n",
              "      fill: #D2E3FC;\n",
              "    }\n",
              "\n",
              "    [theme=dark] .colab-df-convert:hover {\n",
              "      background-color: #434B5C;\n",
              "      box-shadow: 0px 1px 3px 1px rgba(0, 0, 0, 0.15);\n",
              "      filter: drop-shadow(0px 1px 2px rgba(0, 0, 0, 0.3));\n",
              "      fill: #FFFFFF;\n",
              "    }\n",
              "  </style>\n",
              "\n",
              "      <script>\n",
              "        const buttonEl =\n",
              "          document.querySelector('#df-84357709-b0cf-45ab-9345-f9693f36fe61 button.colab-df-convert');\n",
              "        buttonEl.style.display =\n",
              "          google.colab.kernel.accessAllowed ? 'block' : 'none';\n",
              "\n",
              "        async function convertToInteractive(key) {\n",
              "          const element = document.querySelector('#df-84357709-b0cf-45ab-9345-f9693f36fe61');\n",
              "          const dataTable =\n",
              "            await google.colab.kernel.invokeFunction('convertToInteractive',\n",
              "                                                     [key], {});\n",
              "          if (!dataTable) return;\n",
              "\n",
              "          const docLinkHtml = 'Like what you see? Visit the ' +\n",
              "            '<a target=\"_blank\" href=https://colab.research.google.com/notebooks/data_table.ipynb>data table notebook</a>'\n",
              "            + ' to learn more about interactive tables.';\n",
              "          element.innerHTML = '';\n",
              "          dataTable['output_type'] = 'display_data';\n",
              "          await google.colab.output.renderOutput(dataTable, element);\n",
              "          const docLink = document.createElement('div');\n",
              "          docLink.innerHTML = docLinkHtml;\n",
              "          element.appendChild(docLink);\n",
              "        }\n",
              "      </script>\n",
              "    </div>\n",
              "  </div>\n",
              "  "
            ]
          },
          "metadata": {},
          "execution_count": 25
        }
      ]
    },
    {
      "cell_type": "code",
      "source": [
        "#pengecekan dataset rating\n",
        "\n",
        "rating_data = pd.read_csv('/content/drive/MyDrive/data/Anime_Recommendation /rating.csv')\n",
        "rating_data"
      ],
      "metadata": {
        "colab": {
          "base_uri": "https://localhost:8080/",
          "height": 424
        },
        "id": "UJjdp1cZ-U2T",
        "outputId": "91bdf1fb-99c7-4095-d95f-9d74e4ff8aa9"
      },
      "execution_count": 26,
      "outputs": [
        {
          "output_type": "execute_result",
          "data": {
            "text/plain": [
              "         user_id  anime_id  rating\n",
              "0              1        20      -1\n",
              "1              1        24      -1\n",
              "2              1        79      -1\n",
              "3              1       226      -1\n",
              "4              1       241      -1\n",
              "...          ...       ...     ...\n",
              "7813732    73515     16512       7\n",
              "7813733    73515     17187       9\n",
              "7813734    73515     22145      10\n",
              "7813735    73516       790       9\n",
              "7813736    73516      8074       9\n",
              "\n",
              "[7813737 rows x 3 columns]"
            ],
            "text/html": [
              "\n",
              "  <div id=\"df-ad36795d-7f3e-4acc-a98f-0a9c310db54b\">\n",
              "    <div class=\"colab-df-container\">\n",
              "      <div>\n",
              "<style scoped>\n",
              "    .dataframe tbody tr th:only-of-type {\n",
              "        vertical-align: middle;\n",
              "    }\n",
              "\n",
              "    .dataframe tbody tr th {\n",
              "        vertical-align: top;\n",
              "    }\n",
              "\n",
              "    .dataframe thead th {\n",
              "        text-align: right;\n",
              "    }\n",
              "</style>\n",
              "<table border=\"1\" class=\"dataframe\">\n",
              "  <thead>\n",
              "    <tr style=\"text-align: right;\">\n",
              "      <th></th>\n",
              "      <th>user_id</th>\n",
              "      <th>anime_id</th>\n",
              "      <th>rating</th>\n",
              "    </tr>\n",
              "  </thead>\n",
              "  <tbody>\n",
              "    <tr>\n",
              "      <th>0</th>\n",
              "      <td>1</td>\n",
              "      <td>20</td>\n",
              "      <td>-1</td>\n",
              "    </tr>\n",
              "    <tr>\n",
              "      <th>1</th>\n",
              "      <td>1</td>\n",
              "      <td>24</td>\n",
              "      <td>-1</td>\n",
              "    </tr>\n",
              "    <tr>\n",
              "      <th>2</th>\n",
              "      <td>1</td>\n",
              "      <td>79</td>\n",
              "      <td>-1</td>\n",
              "    </tr>\n",
              "    <tr>\n",
              "      <th>3</th>\n",
              "      <td>1</td>\n",
              "      <td>226</td>\n",
              "      <td>-1</td>\n",
              "    </tr>\n",
              "    <tr>\n",
              "      <th>4</th>\n",
              "      <td>1</td>\n",
              "      <td>241</td>\n",
              "      <td>-1</td>\n",
              "    </tr>\n",
              "    <tr>\n",
              "      <th>...</th>\n",
              "      <td>...</td>\n",
              "      <td>...</td>\n",
              "      <td>...</td>\n",
              "    </tr>\n",
              "    <tr>\n",
              "      <th>7813732</th>\n",
              "      <td>73515</td>\n",
              "      <td>16512</td>\n",
              "      <td>7</td>\n",
              "    </tr>\n",
              "    <tr>\n",
              "      <th>7813733</th>\n",
              "      <td>73515</td>\n",
              "      <td>17187</td>\n",
              "      <td>9</td>\n",
              "    </tr>\n",
              "    <tr>\n",
              "      <th>7813734</th>\n",
              "      <td>73515</td>\n",
              "      <td>22145</td>\n",
              "      <td>10</td>\n",
              "    </tr>\n",
              "    <tr>\n",
              "      <th>7813735</th>\n",
              "      <td>73516</td>\n",
              "      <td>790</td>\n",
              "      <td>9</td>\n",
              "    </tr>\n",
              "    <tr>\n",
              "      <th>7813736</th>\n",
              "      <td>73516</td>\n",
              "      <td>8074</td>\n",
              "      <td>9</td>\n",
              "    </tr>\n",
              "  </tbody>\n",
              "</table>\n",
              "<p>7813737 rows × 3 columns</p>\n",
              "</div>\n",
              "      <button class=\"colab-df-convert\" onclick=\"convertToInteractive('df-ad36795d-7f3e-4acc-a98f-0a9c310db54b')\"\n",
              "              title=\"Convert this dataframe to an interactive table.\"\n",
              "              style=\"display:none;\">\n",
              "        \n",
              "  <svg xmlns=\"http://www.w3.org/2000/svg\" height=\"24px\"viewBox=\"0 0 24 24\"\n",
              "       width=\"24px\">\n",
              "    <path d=\"M0 0h24v24H0V0z\" fill=\"none\"/>\n",
              "    <path d=\"M18.56 5.44l.94 2.06.94-2.06 2.06-.94-2.06-.94-.94-2.06-.94 2.06-2.06.94zm-11 1L8.5 8.5l.94-2.06 2.06-.94-2.06-.94L8.5 2.5l-.94 2.06-2.06.94zm10 10l.94 2.06.94-2.06 2.06-.94-2.06-.94-.94-2.06-.94 2.06-2.06.94z\"/><path d=\"M17.41 7.96l-1.37-1.37c-.4-.4-.92-.59-1.43-.59-.52 0-1.04.2-1.43.59L10.3 9.45l-7.72 7.72c-.78.78-.78 2.05 0 2.83L4 21.41c.39.39.9.59 1.41.59.51 0 1.02-.2 1.41-.59l7.78-7.78 2.81-2.81c.8-.78.8-2.07 0-2.86zM5.41 20L4 18.59l7.72-7.72 1.47 1.35L5.41 20z\"/>\n",
              "  </svg>\n",
              "      </button>\n",
              "      \n",
              "  <style>\n",
              "    .colab-df-container {\n",
              "      display:flex;\n",
              "      flex-wrap:wrap;\n",
              "      gap: 12px;\n",
              "    }\n",
              "\n",
              "    .colab-df-convert {\n",
              "      background-color: #E8F0FE;\n",
              "      border: none;\n",
              "      border-radius: 50%;\n",
              "      cursor: pointer;\n",
              "      display: none;\n",
              "      fill: #1967D2;\n",
              "      height: 32px;\n",
              "      padding: 0 0 0 0;\n",
              "      width: 32px;\n",
              "    }\n",
              "\n",
              "    .colab-df-convert:hover {\n",
              "      background-color: #E2EBFA;\n",
              "      box-shadow: 0px 1px 2px rgba(60, 64, 67, 0.3), 0px 1px 3px 1px rgba(60, 64, 67, 0.15);\n",
              "      fill: #174EA6;\n",
              "    }\n",
              "\n",
              "    [theme=dark] .colab-df-convert {\n",
              "      background-color: #3B4455;\n",
              "      fill: #D2E3FC;\n",
              "    }\n",
              "\n",
              "    [theme=dark] .colab-df-convert:hover {\n",
              "      background-color: #434B5C;\n",
              "      box-shadow: 0px 1px 3px 1px rgba(0, 0, 0, 0.15);\n",
              "      filter: drop-shadow(0px 1px 2px rgba(0, 0, 0, 0.3));\n",
              "      fill: #FFFFFF;\n",
              "    }\n",
              "  </style>\n",
              "\n",
              "      <script>\n",
              "        const buttonEl =\n",
              "          document.querySelector('#df-ad36795d-7f3e-4acc-a98f-0a9c310db54b button.colab-df-convert');\n",
              "        buttonEl.style.display =\n",
              "          google.colab.kernel.accessAllowed ? 'block' : 'none';\n",
              "\n",
              "        async function convertToInteractive(key) {\n",
              "          const element = document.querySelector('#df-ad36795d-7f3e-4acc-a98f-0a9c310db54b');\n",
              "          const dataTable =\n",
              "            await google.colab.kernel.invokeFunction('convertToInteractive',\n",
              "                                                     [key], {});\n",
              "          if (!dataTable) return;\n",
              "\n",
              "          const docLinkHtml = 'Like what you see? Visit the ' +\n",
              "            '<a target=\"_blank\" href=https://colab.research.google.com/notebooks/data_table.ipynb>data table notebook</a>'\n",
              "            + ' to learn more about interactive tables.';\n",
              "          element.innerHTML = '';\n",
              "          dataTable['output_type'] = 'display_data';\n",
              "          await google.colab.output.renderOutput(dataTable, element);\n",
              "          const docLink = document.createElement('div');\n",
              "          docLink.innerHTML = docLinkHtml;\n",
              "          element.appendChild(docLink);\n",
              "        }\n",
              "      </script>\n",
              "    </div>\n",
              "  </div>\n",
              "  "
            ]
          },
          "metadata": {},
          "execution_count": 26
        }
      ]
    },
    {
      "cell_type": "markdown",
      "source": [
        "Pengecekan info dataset"
      ],
      "metadata": {
        "id": "P4MDUjm_8563"
      }
    },
    {
      "cell_type": "code",
      "source": [
        "anime_data.info()"
      ],
      "metadata": {
        "colab": {
          "base_uri": "https://localhost:8080/"
        },
        "id": "JQmSFJF7-jcd",
        "outputId": "ab43366b-4ef5-4393-987d-c916a4c71154"
      },
      "execution_count": 27,
      "outputs": [
        {
          "output_type": "stream",
          "name": "stdout",
          "text": [
            "<class 'pandas.core.frame.DataFrame'>\n",
            "RangeIndex: 12294 entries, 0 to 12293\n",
            "Data columns (total 7 columns):\n",
            " #   Column    Non-Null Count  Dtype  \n",
            "---  ------    --------------  -----  \n",
            " 0   anime_id  12294 non-null  int64  \n",
            " 1   name      12294 non-null  object \n",
            " 2   genre     12232 non-null  object \n",
            " 3   type      12269 non-null  object \n",
            " 4   episodes  12294 non-null  object \n",
            " 5   rating    12064 non-null  float64\n",
            " 6   members   12294 non-null  int64  \n",
            "dtypes: float64(1), int64(2), object(4)\n",
            "memory usage: 672.5+ KB\n"
          ]
        }
      ]
    },
    {
      "cell_type": "code",
      "source": [
        "rating_data.info()"
      ],
      "metadata": {
        "colab": {
          "base_uri": "https://localhost:8080/"
        },
        "id": "VGWPRwpY-0Wl",
        "outputId": "cf77a483-2226-44c3-e5d3-c7455fcbcd5e"
      },
      "execution_count": 28,
      "outputs": [
        {
          "output_type": "stream",
          "name": "stdout",
          "text": [
            "<class 'pandas.core.frame.DataFrame'>\n",
            "RangeIndex: 7813737 entries, 0 to 7813736\n",
            "Data columns (total 3 columns):\n",
            " #   Column    Dtype\n",
            "---  ------    -----\n",
            " 0   user_id   int64\n",
            " 1   anime_id  int64\n",
            " 2   rating    int64\n",
            "dtypes: int64(3)\n",
            "memory usage: 178.8 MB\n"
          ]
        }
      ]
    },
    {
      "cell_type": "markdown",
      "source": [
        "Pengecekan shape dari dataset yang ada"
      ],
      "metadata": {
        "id": "ClKq6GJR8845"
      }
    },
    {
      "cell_type": "code",
      "source": [
        "anime_data.shape"
      ],
      "metadata": {
        "colab": {
          "base_uri": "https://localhost:8080/"
        },
        "id": "DTTGojac8yet",
        "outputId": "6b4a0934-a643-4b24-ed5e-f506355bfa63"
      },
      "execution_count": 29,
      "outputs": [
        {
          "output_type": "execute_result",
          "data": {
            "text/plain": [
              "(12294, 7)"
            ]
          },
          "metadata": {},
          "execution_count": 29
        }
      ]
    },
    {
      "cell_type": "code",
      "source": [
        "rating_data.shape"
      ],
      "metadata": {
        "colab": {
          "base_uri": "https://localhost:8080/"
        },
        "id": "nZqrRzWS81LM",
        "outputId": "3ae0ac41-0207-4ae0-ac50-4205b5cb1611"
      },
      "execution_count": 30,
      "outputs": [
        {
          "output_type": "execute_result",
          "data": {
            "text/plain": [
              "(7813737, 3)"
            ]
          },
          "metadata": {},
          "execution_count": 30
        }
      ]
    },
    {
      "cell_type": "markdown",
      "source": [
        "## Data Pre-Processing\n",
        "\n",
        "1. Mengubah nama kolom\n",
        "2. Pembatasan Dataset dikarenakan dataset yang banyak\n",
        "3. Mengubah Unknown menjadi 0 "
      ],
      "metadata": {
        "id": "1q_9SsDt_L2M"
      }
    },
    {
      "cell_type": "code",
      "source": [
        "#pengubahan nama kolom dalam dataset rating dan anime.\n",
        "#anime\n",
        "anime_data.rename(columns = {'rating':'AverageRating'}, inplace = True)"
      ],
      "metadata": {
        "id": "OhelhFbk9Jou"
      },
      "execution_count": 31,
      "outputs": []
    },
    {
      "cell_type": "code",
      "source": [
        "# check dataset anime\n",
        "anime_data.head()"
      ],
      "metadata": {
        "colab": {
          "base_uri": "https://localhost:8080/",
          "height": 250
        },
        "id": "_nLLc0RH-OOu",
        "outputId": "fe414cc7-ff51-42de-9e18-2085c6ea5a79"
      },
      "execution_count": 32,
      "outputs": [
        {
          "output_type": "execute_result",
          "data": {
            "text/plain": [
              "   anime_id                              name  \\\n",
              "0     32281                    Kimi no Na wa.   \n",
              "1      5114  Fullmetal Alchemist: Brotherhood   \n",
              "2     28977                          Gintama°   \n",
              "3      9253                       Steins;Gate   \n",
              "4      9969                     Gintama&#039;   \n",
              "\n",
              "                                               genre   type episodes  \\\n",
              "0               Drama, Romance, School, Supernatural  Movie        1   \n",
              "1  Action, Adventure, Drama, Fantasy, Magic, Mili...     TV       64   \n",
              "2  Action, Comedy, Historical, Parody, Samurai, S...     TV       51   \n",
              "3                                   Sci-Fi, Thriller     TV       24   \n",
              "4  Action, Comedy, Historical, Parody, Samurai, S...     TV       51   \n",
              "\n",
              "   AverageRating  members  \n",
              "0           9.37   200630  \n",
              "1           9.26   793665  \n",
              "2           9.25   114262  \n",
              "3           9.17   673572  \n",
              "4           9.16   151266  "
            ],
            "text/html": [
              "\n",
              "  <div id=\"df-a5ba0978-ad4a-4abe-bb79-ffe1e209dc44\">\n",
              "    <div class=\"colab-df-container\">\n",
              "      <div>\n",
              "<style scoped>\n",
              "    .dataframe tbody tr th:only-of-type {\n",
              "        vertical-align: middle;\n",
              "    }\n",
              "\n",
              "    .dataframe tbody tr th {\n",
              "        vertical-align: top;\n",
              "    }\n",
              "\n",
              "    .dataframe thead th {\n",
              "        text-align: right;\n",
              "    }\n",
              "</style>\n",
              "<table border=\"1\" class=\"dataframe\">\n",
              "  <thead>\n",
              "    <tr style=\"text-align: right;\">\n",
              "      <th></th>\n",
              "      <th>anime_id</th>\n",
              "      <th>name</th>\n",
              "      <th>genre</th>\n",
              "      <th>type</th>\n",
              "      <th>episodes</th>\n",
              "      <th>AverageRating</th>\n",
              "      <th>members</th>\n",
              "    </tr>\n",
              "  </thead>\n",
              "  <tbody>\n",
              "    <tr>\n",
              "      <th>0</th>\n",
              "      <td>32281</td>\n",
              "      <td>Kimi no Na wa.</td>\n",
              "      <td>Drama, Romance, School, Supernatural</td>\n",
              "      <td>Movie</td>\n",
              "      <td>1</td>\n",
              "      <td>9.37</td>\n",
              "      <td>200630</td>\n",
              "    </tr>\n",
              "    <tr>\n",
              "      <th>1</th>\n",
              "      <td>5114</td>\n",
              "      <td>Fullmetal Alchemist: Brotherhood</td>\n",
              "      <td>Action, Adventure, Drama, Fantasy, Magic, Mili...</td>\n",
              "      <td>TV</td>\n",
              "      <td>64</td>\n",
              "      <td>9.26</td>\n",
              "      <td>793665</td>\n",
              "    </tr>\n",
              "    <tr>\n",
              "      <th>2</th>\n",
              "      <td>28977</td>\n",
              "      <td>Gintama°</td>\n",
              "      <td>Action, Comedy, Historical, Parody, Samurai, S...</td>\n",
              "      <td>TV</td>\n",
              "      <td>51</td>\n",
              "      <td>9.25</td>\n",
              "      <td>114262</td>\n",
              "    </tr>\n",
              "    <tr>\n",
              "      <th>3</th>\n",
              "      <td>9253</td>\n",
              "      <td>Steins;Gate</td>\n",
              "      <td>Sci-Fi, Thriller</td>\n",
              "      <td>TV</td>\n",
              "      <td>24</td>\n",
              "      <td>9.17</td>\n",
              "      <td>673572</td>\n",
              "    </tr>\n",
              "    <tr>\n",
              "      <th>4</th>\n",
              "      <td>9969</td>\n",
              "      <td>Gintama&amp;#039;</td>\n",
              "      <td>Action, Comedy, Historical, Parody, Samurai, S...</td>\n",
              "      <td>TV</td>\n",
              "      <td>51</td>\n",
              "      <td>9.16</td>\n",
              "      <td>151266</td>\n",
              "    </tr>\n",
              "  </tbody>\n",
              "</table>\n",
              "</div>\n",
              "      <button class=\"colab-df-convert\" onclick=\"convertToInteractive('df-a5ba0978-ad4a-4abe-bb79-ffe1e209dc44')\"\n",
              "              title=\"Convert this dataframe to an interactive table.\"\n",
              "              style=\"display:none;\">\n",
              "        \n",
              "  <svg xmlns=\"http://www.w3.org/2000/svg\" height=\"24px\"viewBox=\"0 0 24 24\"\n",
              "       width=\"24px\">\n",
              "    <path d=\"M0 0h24v24H0V0z\" fill=\"none\"/>\n",
              "    <path d=\"M18.56 5.44l.94 2.06.94-2.06 2.06-.94-2.06-.94-.94-2.06-.94 2.06-2.06.94zm-11 1L8.5 8.5l.94-2.06 2.06-.94-2.06-.94L8.5 2.5l-.94 2.06-2.06.94zm10 10l.94 2.06.94-2.06 2.06-.94-2.06-.94-.94-2.06-.94 2.06-2.06.94z\"/><path d=\"M17.41 7.96l-1.37-1.37c-.4-.4-.92-.59-1.43-.59-.52 0-1.04.2-1.43.59L10.3 9.45l-7.72 7.72c-.78.78-.78 2.05 0 2.83L4 21.41c.39.39.9.59 1.41.59.51 0 1.02-.2 1.41-.59l7.78-7.78 2.81-2.81c.8-.78.8-2.07 0-2.86zM5.41 20L4 18.59l7.72-7.72 1.47 1.35L5.41 20z\"/>\n",
              "  </svg>\n",
              "      </button>\n",
              "      \n",
              "  <style>\n",
              "    .colab-df-container {\n",
              "      display:flex;\n",
              "      flex-wrap:wrap;\n",
              "      gap: 12px;\n",
              "    }\n",
              "\n",
              "    .colab-df-convert {\n",
              "      background-color: #E8F0FE;\n",
              "      border: none;\n",
              "      border-radius: 50%;\n",
              "      cursor: pointer;\n",
              "      display: none;\n",
              "      fill: #1967D2;\n",
              "      height: 32px;\n",
              "      padding: 0 0 0 0;\n",
              "      width: 32px;\n",
              "    }\n",
              "\n",
              "    .colab-df-convert:hover {\n",
              "      background-color: #E2EBFA;\n",
              "      box-shadow: 0px 1px 2px rgba(60, 64, 67, 0.3), 0px 1px 3px 1px rgba(60, 64, 67, 0.15);\n",
              "      fill: #174EA6;\n",
              "    }\n",
              "\n",
              "    [theme=dark] .colab-df-convert {\n",
              "      background-color: #3B4455;\n",
              "      fill: #D2E3FC;\n",
              "    }\n",
              "\n",
              "    [theme=dark] .colab-df-convert:hover {\n",
              "      background-color: #434B5C;\n",
              "      box-shadow: 0px 1px 3px 1px rgba(0, 0, 0, 0.15);\n",
              "      filter: drop-shadow(0px 1px 2px rgba(0, 0, 0, 0.3));\n",
              "      fill: #FFFFFF;\n",
              "    }\n",
              "  </style>\n",
              "\n",
              "      <script>\n",
              "        const buttonEl =\n",
              "          document.querySelector('#df-a5ba0978-ad4a-4abe-bb79-ffe1e209dc44 button.colab-df-convert');\n",
              "        buttonEl.style.display =\n",
              "          google.colab.kernel.accessAllowed ? 'block' : 'none';\n",
              "\n",
              "        async function convertToInteractive(key) {\n",
              "          const element = document.querySelector('#df-a5ba0978-ad4a-4abe-bb79-ffe1e209dc44');\n",
              "          const dataTable =\n",
              "            await google.colab.kernel.invokeFunction('convertToInteractive',\n",
              "                                                     [key], {});\n",
              "          if (!dataTable) return;\n",
              "\n",
              "          const docLinkHtml = 'Like what you see? Visit the ' +\n",
              "            '<a target=\"_blank\" href=https://colab.research.google.com/notebooks/data_table.ipynb>data table notebook</a>'\n",
              "            + ' to learn more about interactive tables.';\n",
              "          element.innerHTML = '';\n",
              "          dataTable['output_type'] = 'display_data';\n",
              "          await google.colab.output.renderOutput(dataTable, element);\n",
              "          const docLink = document.createElement('div');\n",
              "          docLink.innerHTML = docLinkHtml;\n",
              "          element.appendChild(docLink);\n",
              "        }\n",
              "      </script>\n",
              "    </div>\n",
              "  </div>\n",
              "  "
            ]
          },
          "metadata": {},
          "execution_count": 32
        }
      ]
    },
    {
      "cell_type": "code",
      "source": [
        "rating_data.rename(columns = {'rating':'user_rating'}, inplace = True)"
      ],
      "metadata": {
        "id": "6CEXZqG796Mj"
      },
      "execution_count": 33,
      "outputs": []
    },
    {
      "cell_type": "code",
      "source": [
        "# check dataset rating\n",
        "rating_data.head()"
      ],
      "metadata": {
        "colab": {
          "base_uri": "https://localhost:8080/",
          "height": 206
        },
        "id": "XWHquhCw-LI0",
        "outputId": "9fc0e6c2-4ae3-4da1-d644-cb64fee8aa57"
      },
      "execution_count": 34,
      "outputs": [
        {
          "output_type": "execute_result",
          "data": {
            "text/plain": [
              "   user_id  anime_id  user_rating\n",
              "0        1        20           -1\n",
              "1        1        24           -1\n",
              "2        1        79           -1\n",
              "3        1       226           -1\n",
              "4        1       241           -1"
            ],
            "text/html": [
              "\n",
              "  <div id=\"df-07b418cc-f6ee-44d1-982c-04ed07863843\">\n",
              "    <div class=\"colab-df-container\">\n",
              "      <div>\n",
              "<style scoped>\n",
              "    .dataframe tbody tr th:only-of-type {\n",
              "        vertical-align: middle;\n",
              "    }\n",
              "\n",
              "    .dataframe tbody tr th {\n",
              "        vertical-align: top;\n",
              "    }\n",
              "\n",
              "    .dataframe thead th {\n",
              "        text-align: right;\n",
              "    }\n",
              "</style>\n",
              "<table border=\"1\" class=\"dataframe\">\n",
              "  <thead>\n",
              "    <tr style=\"text-align: right;\">\n",
              "      <th></th>\n",
              "      <th>user_id</th>\n",
              "      <th>anime_id</th>\n",
              "      <th>user_rating</th>\n",
              "    </tr>\n",
              "  </thead>\n",
              "  <tbody>\n",
              "    <tr>\n",
              "      <th>0</th>\n",
              "      <td>1</td>\n",
              "      <td>20</td>\n",
              "      <td>-1</td>\n",
              "    </tr>\n",
              "    <tr>\n",
              "      <th>1</th>\n",
              "      <td>1</td>\n",
              "      <td>24</td>\n",
              "      <td>-1</td>\n",
              "    </tr>\n",
              "    <tr>\n",
              "      <th>2</th>\n",
              "      <td>1</td>\n",
              "      <td>79</td>\n",
              "      <td>-1</td>\n",
              "    </tr>\n",
              "    <tr>\n",
              "      <th>3</th>\n",
              "      <td>1</td>\n",
              "      <td>226</td>\n",
              "      <td>-1</td>\n",
              "    </tr>\n",
              "    <tr>\n",
              "      <th>4</th>\n",
              "      <td>1</td>\n",
              "      <td>241</td>\n",
              "      <td>-1</td>\n",
              "    </tr>\n",
              "  </tbody>\n",
              "</table>\n",
              "</div>\n",
              "      <button class=\"colab-df-convert\" onclick=\"convertToInteractive('df-07b418cc-f6ee-44d1-982c-04ed07863843')\"\n",
              "              title=\"Convert this dataframe to an interactive table.\"\n",
              "              style=\"display:none;\">\n",
              "        \n",
              "  <svg xmlns=\"http://www.w3.org/2000/svg\" height=\"24px\"viewBox=\"0 0 24 24\"\n",
              "       width=\"24px\">\n",
              "    <path d=\"M0 0h24v24H0V0z\" fill=\"none\"/>\n",
              "    <path d=\"M18.56 5.44l.94 2.06.94-2.06 2.06-.94-2.06-.94-.94-2.06-.94 2.06-2.06.94zm-11 1L8.5 8.5l.94-2.06 2.06-.94-2.06-.94L8.5 2.5l-.94 2.06-2.06.94zm10 10l.94 2.06.94-2.06 2.06-.94-2.06-.94-.94-2.06-.94 2.06-2.06.94z\"/><path d=\"M17.41 7.96l-1.37-1.37c-.4-.4-.92-.59-1.43-.59-.52 0-1.04.2-1.43.59L10.3 9.45l-7.72 7.72c-.78.78-.78 2.05 0 2.83L4 21.41c.39.39.9.59 1.41.59.51 0 1.02-.2 1.41-.59l7.78-7.78 2.81-2.81c.8-.78.8-2.07 0-2.86zM5.41 20L4 18.59l7.72-7.72 1.47 1.35L5.41 20z\"/>\n",
              "  </svg>\n",
              "      </button>\n",
              "      \n",
              "  <style>\n",
              "    .colab-df-container {\n",
              "      display:flex;\n",
              "      flex-wrap:wrap;\n",
              "      gap: 12px;\n",
              "    }\n",
              "\n",
              "    .colab-df-convert {\n",
              "      background-color: #E8F0FE;\n",
              "      border: none;\n",
              "      border-radius: 50%;\n",
              "      cursor: pointer;\n",
              "      display: none;\n",
              "      fill: #1967D2;\n",
              "      height: 32px;\n",
              "      padding: 0 0 0 0;\n",
              "      width: 32px;\n",
              "    }\n",
              "\n",
              "    .colab-df-convert:hover {\n",
              "      background-color: #E2EBFA;\n",
              "      box-shadow: 0px 1px 2px rgba(60, 64, 67, 0.3), 0px 1px 3px 1px rgba(60, 64, 67, 0.15);\n",
              "      fill: #174EA6;\n",
              "    }\n",
              "\n",
              "    [theme=dark] .colab-df-convert {\n",
              "      background-color: #3B4455;\n",
              "      fill: #D2E3FC;\n",
              "    }\n",
              "\n",
              "    [theme=dark] .colab-df-convert:hover {\n",
              "      background-color: #434B5C;\n",
              "      box-shadow: 0px 1px 3px 1px rgba(0, 0, 0, 0.15);\n",
              "      filter: drop-shadow(0px 1px 2px rgba(0, 0, 0, 0.3));\n",
              "      fill: #FFFFFF;\n",
              "    }\n",
              "  </style>\n",
              "\n",
              "      <script>\n",
              "        const buttonEl =\n",
              "          document.querySelector('#df-07b418cc-f6ee-44d1-982c-04ed07863843 button.colab-df-convert');\n",
              "        buttonEl.style.display =\n",
              "          google.colab.kernel.accessAllowed ? 'block' : 'none';\n",
              "\n",
              "        async function convertToInteractive(key) {\n",
              "          const element = document.querySelector('#df-07b418cc-f6ee-44d1-982c-04ed07863843');\n",
              "          const dataTable =\n",
              "            await google.colab.kernel.invokeFunction('convertToInteractive',\n",
              "                                                     [key], {});\n",
              "          if (!dataTable) return;\n",
              "\n",
              "          const docLinkHtml = 'Like what you see? Visit the ' +\n",
              "            '<a target=\"_blank\" href=https://colab.research.google.com/notebooks/data_table.ipynb>data table notebook</a>'\n",
              "            + ' to learn more about interactive tables.';\n",
              "          element.innerHTML = '';\n",
              "          dataTable['output_type'] = 'display_data';\n",
              "          await google.colab.output.renderOutput(dataTable, element);\n",
              "          const docLink = document.createElement('div');\n",
              "          docLink.innerHTML = docLinkHtml;\n",
              "          element.appendChild(docLink);\n",
              "        }\n",
              "      </script>\n",
              "    </div>\n",
              "  </div>\n",
              "  "
            ]
          },
          "metadata": {},
          "execution_count": 34
        }
      ]
    },
    {
      "cell_type": "code",
      "source": [
        "#pembatasan data\n",
        "anime_data= anime_data[:1000]\n",
        "rating_data= rating_data[:1000]"
      ],
      "metadata": {
        "id": "NvAFHHV7BK9S"
      },
      "execution_count": 35,
      "outputs": []
    },
    {
      "cell_type": "code",
      "source": [
        "#pengubahan data 'unknown' dalam bagian kolom episode menjadi 0 dan mengubah menjadi int type\n",
        "anime_data.loc[anime_data[\"episodes\"] == \"Unknown\", \"episodes\"] = 0\n",
        "anime_data[\"episodes\"] = anime_data[\"episodes\"].astype(int)"
      ],
      "metadata": {
        "colab": {
          "base_uri": "https://localhost:8080/"
        },
        "id": "DtA_ZSe9-a7z",
        "outputId": "4ffc389e-87df-49b1-87fc-72cd471620cb"
      },
      "execution_count": 36,
      "outputs": [
        {
          "output_type": "stream",
          "name": "stderr",
          "text": [
            "/usr/local/lib/python3.7/dist-packages/pandas/core/indexing.py:1817: SettingWithCopyWarning: \n",
            "A value is trying to be set on a copy of a slice from a DataFrame.\n",
            "Try using .loc[row_indexer,col_indexer] = value instead\n",
            "\n",
            "See the caveats in the documentation: https://pandas.pydata.org/pandas-docs/stable/user_guide/indexing.html#returning-a-view-versus-a-copy\n",
            "  self._setitem_single_column(loc, value, pi)\n",
            "/usr/local/lib/python3.7/dist-packages/ipykernel_launcher.py:3: SettingWithCopyWarning: \n",
            "A value is trying to be set on a copy of a slice from a DataFrame.\n",
            "Try using .loc[row_indexer,col_indexer] = value instead\n",
            "\n",
            "See the caveats in the documentation: https://pandas.pydata.org/pandas-docs/stable/user_guide/indexing.html#returning-a-view-versus-a-copy\n",
            "  This is separate from the ipykernel package so we can avoid doing imports until\n"
          ]
        }
      ]
    },
    {
      "cell_type": "markdown",
      "source": [
        "## Data Analys"
      ],
      "metadata": {
        "id": "DLpZoxuI_UbW"
      }
    },
    {
      "cell_type": "code",
      "source": [
        "#penghitungan banyaknya anime berdasarkan kategori tipe\n",
        "count = anime_data[\"type\"].value_counts()\n",
        "count.plot(kind='bar', title=\"Type\");\n",
        " \n",
        "plt.show()"
      ],
      "metadata": {
        "colab": {
          "base_uri": "https://localhost:8080/",
          "height": 307
        },
        "id": "4IIdkTJK_T8x",
        "outputId": "51b608ad-5918-465d-9e5f-1c776621fe18"
      },
      "execution_count": 37,
      "outputs": [
        {
          "output_type": "display_data",
          "data": {
            "text/plain": [
              "<Figure size 432x288 with 1 Axes>"
            ],
            "image/png": "[encoded data removed]"
          },
          "metadata": {
            "needs_background": "light"
          }
        }
      ]
    },
    {
      "cell_type": "code",
      "source": [
        "#Penglihatan user rating\n",
        "count = rating_data[\"user_rating\"].value_counts()\n",
        "count.plot(kind='bar', title=\"User Rating\");\n",
        " \n",
        "plt.show()"
      ],
      "metadata": {
        "colab": {
          "base_uri": "https://localhost:8080/",
          "height": 284
        },
        "id": "1l2PolMVAWxr",
        "outputId": "1fdad59f-8e44-435f-f83a-4ae8560bf8d3"
      },
      "execution_count": 38,
      "outputs": [
        {
          "output_type": "display_data",
          "data": {
            "text/plain": [
              "<Figure size 432x288 with 1 Axes>"
            ],
            "image/png": "[encoded data removed]"
          },
          "metadata": {
            "needs_background": "light"
          }
        }
      ]
    },
    {
      "cell_type": "markdown",
      "source": [
        "## Data Pre-Paration"
      ],
      "metadata": {
        "id": "5CcLLS-A9DLb"
      }
    },
    {
      "cell_type": "markdown",
      "source": [
        "### Anime Dataset"
      ],
      "metadata": {
        "id": "qiRC26jaEC2l"
      }
    },
    {
      "cell_type": "code",
      "source": [
        "# Pengechekan missing value dan menghapusnya\n",
        "anime_data.isna().sum()"
      ],
      "metadata": {
        "colab": {
          "base_uri": "https://localhost:8080/"
        },
        "id": "mYGohcKZ_kap",
        "outputId": "525cad1c-03cb-4f24-8ff9-898b53bf005a"
      },
      "execution_count": 39,
      "outputs": [
        {
          "output_type": "execute_result",
          "data": {
            "text/plain": [
              "anime_id         0\n",
              "name             0\n",
              "genre            0\n",
              "type             0\n",
              "episodes         0\n",
              "AverageRating    0\n",
              "members          0\n",
              "dtype: int64"
            ]
          },
          "metadata": {},
          "execution_count": 39
        }
      ]
    },
    {
      "cell_type": "code",
      "source": [
        "anime_data = anime_data.dropna()"
      ],
      "metadata": {
        "id": "Gk6r9VH9ACU8"
      },
      "execution_count": 40,
      "outputs": []
    },
    {
      "cell_type": "code",
      "source": [
        "#melihat jumlah data\n",
        "anime_data.shape"
      ],
      "metadata": {
        "colab": {
          "base_uri": "https://localhost:8080/"
        },
        "id": "dGP52qSoCeut",
        "outputId": "270145c9-cac6-4103-d386-d34e4748491c"
      },
      "execution_count": 46,
      "outputs": [
        {
          "output_type": "execute_result",
          "data": {
            "text/plain": [
              "(1000, 7)"
            ]
          },
          "metadata": {},
          "execution_count": 46
        }
      ]
    },
    {
      "cell_type": "markdown",
      "source": [
        "### Rating Dataset"
      ],
      "metadata": {
        "id": "OPdCBld0EHAl"
      }
    },
    {
      "cell_type": "markdown",
      "source": [
        "Untuk rating dataset hanya dilakukan perubahan -1 menjadi NaN karena akan dilakukan menghitung peringkat rata-rata per pengguna dan tidak ingin rata-rata terdistorsi"
      ],
      "metadata": {
        "id": "r6cQjmTlTNYE"
      }
    },
    {
      "cell_type": "code",
      "source": [
        "rating_data.user_rating.replace({-1: np.nan}, regex=True, inplace = True)\n",
        "rating_data.head()"
      ],
      "metadata": {
        "colab": {
          "base_uri": "https://localhost:8080/",
          "height": 313
        },
        "id": "Zit12KPOSYfm",
        "outputId": "8fcf97f0-8536-42fd-c71d-1df5a0dd78a6"
      },
      "execution_count": 42,
      "outputs": [
        {
          "output_type": "stream",
          "name": "stderr",
          "text": [
            "/usr/local/lib/python3.7/dist-packages/pandas/core/generic.py:6619: SettingWithCopyWarning: \n",
            "A value is trying to be set on a copy of a slice from a DataFrame\n",
            "\n",
            "See the caveats in the documentation: https://pandas.pydata.org/pandas-docs/stable/user_guide/indexing.html#returning-a-view-versus-a-copy\n",
            "  return self._update_inplace(result)\n"
          ]
        },
        {
          "output_type": "execute_result",
          "data": {
            "text/plain": [
              "   user_id  anime_id  user_rating\n",
              "0        1        20          NaN\n",
              "1        1        24          NaN\n",
              "2        1        79          NaN\n",
              "3        1       226          NaN\n",
              "4        1       241          NaN"
            ],
            "text/html": [
              "\n",
              "  <div id=\"df-47f91906-4d73-4421-9afd-3b193b8f097d\">\n",
              "    <div class=\"colab-df-container\">\n",
              "      <div>\n",
              "<style scoped>\n",
              "    .dataframe tbody tr th:only-of-type {\n",
              "        vertical-align: middle;\n",
              "    }\n",
              "\n",
              "    .dataframe tbody tr th {\n",
              "        vertical-align: top;\n",
              "    }\n",
              "\n",
              "    .dataframe thead th {\n",
              "        text-align: right;\n",
              "    }\n",
              "</style>\n",
              "<table border=\"1\" class=\"dataframe\">\n",
              "  <thead>\n",
              "    <tr style=\"text-align: right;\">\n",
              "      <th></th>\n",
              "      <th>user_id</th>\n",
              "      <th>anime_id</th>\n",
              "      <th>user_rating</th>\n",
              "    </tr>\n",
              "  </thead>\n",
              "  <tbody>\n",
              "    <tr>\n",
              "      <th>0</th>\n",
              "      <td>1</td>\n",
              "      <td>20</td>\n",
              "      <td>NaN</td>\n",
              "    </tr>\n",
              "    <tr>\n",
              "      <th>1</th>\n",
              "      <td>1</td>\n",
              "      <td>24</td>\n",
              "      <td>NaN</td>\n",
              "    </tr>\n",
              "    <tr>\n",
              "      <th>2</th>\n",
              "      <td>1</td>\n",
              "      <td>79</td>\n",
              "      <td>NaN</td>\n",
              "    </tr>\n",
              "    <tr>\n",
              "      <th>3</th>\n",
              "      <td>1</td>\n",
              "      <td>226</td>\n",
              "      <td>NaN</td>\n",
              "    </tr>\n",
              "    <tr>\n",
              "      <th>4</th>\n",
              "      <td>1</td>\n",
              "      <td>241</td>\n",
              "      <td>NaN</td>\n",
              "    </tr>\n",
              "  </tbody>\n",
              "</table>\n",
              "</div>\n",
              "      <button class=\"colab-df-convert\" onclick=\"convertToInteractive('df-47f91906-4d73-4421-9afd-3b193b8f097d')\"\n",
              "              title=\"Convert this dataframe to an interactive table.\"\n",
              "              style=\"display:none;\">\n",
              "        \n",
              "  <svg xmlns=\"http://www.w3.org/2000/svg\" height=\"24px\"viewBox=\"0 0 24 24\"\n",
              "       width=\"24px\">\n",
              "    <path d=\"M0 0h24v24H0V0z\" fill=\"none\"/>\n",
              "    <path d=\"M18.56 5.44l.94 2.06.94-2.06 2.06-.94-2.06-.94-.94-2.06-.94 2.06-2.06.94zm-11 1L8.5 8.5l.94-2.06 2.06-.94-2.06-.94L8.5 2.5l-.94 2.06-2.06.94zm10 10l.94 2.06.94-2.06 2.06-.94-2.06-.94-.94-2.06-.94 2.06-2.06.94z\"/><path d=\"M17.41 7.96l-1.37-1.37c-.4-.4-.92-.59-1.43-.59-.52 0-1.04.2-1.43.59L10.3 9.45l-7.72 7.72c-.78.78-.78 2.05 0 2.83L4 21.41c.39.39.9.59 1.41.59.51 0 1.02-.2 1.41-.59l7.78-7.78 2.81-2.81c.8-.78.8-2.07 0-2.86zM5.41 20L4 18.59l7.72-7.72 1.47 1.35L5.41 20z\"/>\n",
              "  </svg>\n",
              "      </button>\n",
              "      \n",
              "  <style>\n",
              "    .colab-df-container {\n",
              "      display:flex;\n",
              "      flex-wrap:wrap;\n",
              "      gap: 12px;\n",
              "    }\n",
              "\n",
              "    .colab-df-convert {\n",
              "      background-color: #E8F0FE;\n",
              "      border: none;\n",
              "      border-radius: 50%;\n",
              "      cursor: pointer;\n",
              "      display: none;\n",
              "      fill: #1967D2;\n",
              "      height: 32px;\n",
              "      padding: 0 0 0 0;\n",
              "      width: 32px;\n",
              "    }\n",
              "\n",
              "    .colab-df-convert:hover {\n",
              "      background-color: #E2EBFA;\n",
              "      box-shadow: 0px 1px 2px rgba(60, 64, 67, 0.3), 0px 1px 3px 1px rgba(60, 64, 67, 0.15);\n",
              "      fill: #174EA6;\n",
              "    }\n",
              "\n",
              "    [theme=dark] .colab-df-convert {\n",
              "      background-color: #3B4455;\n",
              "      fill: #D2E3FC;\n",
              "    }\n",
              "\n",
              "    [theme=dark] .colab-df-convert:hover {\n",
              "      background-color: #434B5C;\n",
              "      box-shadow: 0px 1px 3px 1px rgba(0, 0, 0, 0.15);\n",
              "      filter: drop-shadow(0px 1px 2px rgba(0, 0, 0, 0.3));\n",
              "      fill: #FFFFFF;\n",
              "    }\n",
              "  </style>\n",
              "\n",
              "      <script>\n",
              "        const buttonEl =\n",
              "          document.querySelector('#df-47f91906-4d73-4421-9afd-3b193b8f097d button.colab-df-convert');\n",
              "        buttonEl.style.display =\n",
              "          google.colab.kernel.accessAllowed ? 'block' : 'none';\n",
              "\n",
              "        async function convertToInteractive(key) {\n",
              "          const element = document.querySelector('#df-47f91906-4d73-4421-9afd-3b193b8f097d');\n",
              "          const dataTable =\n",
              "            await google.colab.kernel.invokeFunction('convertToInteractive',\n",
              "                                                     [key], {});\n",
              "          if (!dataTable) return;\n",
              "\n",
              "          const docLinkHtml = 'Like what you see? Visit the ' +\n",
              "            '<a target=\"_blank\" href=https://colab.research.google.com/notebooks/data_table.ipynb>data table notebook</a>'\n",
              "            + ' to learn more about interactive tables.';\n",
              "          element.innerHTML = '';\n",
              "          dataTable['output_type'] = 'display_data';\n",
              "          await google.colab.output.renderOutput(dataTable, element);\n",
              "          const docLink = document.createElement('div');\n",
              "          docLink.innerHTML = docLinkHtml;\n",
              "          element.appendChild(docLink);\n",
              "        }\n",
              "      </script>\n",
              "    </div>\n",
              "  </div>\n",
              "  "
            ]
          },
          "metadata": {},
          "execution_count": 42
        }
      ]
    },
    {
      "cell_type": "code",
      "source": [
        "rating_data.isna().sum()"
      ],
      "metadata": {
        "colab": {
          "base_uri": "https://localhost:8080/"
        },
        "id": "fA4VXHy4at3B",
        "outputId": "b577cd02-78ab-4291-9a68-32132191d309"
      },
      "execution_count": 43,
      "outputs": [
        {
          "output_type": "execute_result",
          "data": {
            "text/plain": [
              "user_id          0\n",
              "anime_id         0\n",
              "user_rating    250\n",
              "dtype: int64"
            ]
          },
          "metadata": {},
          "execution_count": 43
        }
      ]
    },
    {
      "cell_type": "code",
      "source": [
        "rating_data = rating_data.dropna()"
      ],
      "metadata": {
        "id": "QT-hNF8Oa2zL"
      },
      "execution_count": 44,
      "outputs": []
    },
    {
      "cell_type": "code",
      "source": [
        "rating_data.isna().sum()"
      ],
      "metadata": {
        "colab": {
          "base_uri": "https://localhost:8080/"
        },
        "id": "MoCybk8Va8tL",
        "outputId": "32d2a9c8-f82d-419a-8293-c3b0cd353236"
      },
      "execution_count": 45,
      "outputs": [
        {
          "output_type": "execute_result",
          "data": {
            "text/plain": [
              "user_id        0\n",
              "anime_id       0\n",
              "user_rating    0\n",
              "dtype: int64"
            ]
          },
          "metadata": {},
          "execution_count": 45
        }
      ]
    },
    {
      "cell_type": "code",
      "source": [
        "rating_data.shape"
      ],
      "metadata": {
        "colab": {
          "base_uri": "https://localhost:8080/"
        },
        "id": "ipURaxcLClcS",
        "outputId": "452b19bf-867a-422b-fb17-5e836142bc36"
      },
      "execution_count": 47,
      "outputs": [
        {
          "output_type": "execute_result",
          "data": {
            "text/plain": [
              "(750, 3)"
            ]
          },
          "metadata": {},
          "execution_count": 47
        }
      ]
    },
    {
      "cell_type": "markdown",
      "source": [
        "## Content Based Filtering\n",
        "Content Based Filtering adalah sistem rekomendasi yang merekomendasikan item sesuai dengan item yang disukai oleh pengguna di masa lampau."
      ],
      "metadata": {
        "id": "PT71Ec42Ctvz"
      }
    },
    {
      "cell_type": "markdown",
      "source": [
        "### Data Preparation in content filtering"
      ],
      "metadata": {
        "id": "T311dT2YC6VI"
      }
    },
    {
      "cell_type": "code",
      "source": [
        "anime_data.head()"
      ],
      "metadata": {
        "colab": {
          "base_uri": "https://localhost:8080/",
          "height": 250
        },
        "id": "WIkLEl7DCxWA",
        "outputId": "f9b2b802-c47a-4a10-b78a-a313b0ef4ccb"
      },
      "execution_count": 49,
      "outputs": [
        {
          "output_type": "execute_result",
          "data": {
            "text/plain": [
              "   anime_id                              name  \\\n",
              "0     32281                    Kimi no Na wa.   \n",
              "1      5114  Fullmetal Alchemist: Brotherhood   \n",
              "2     28977                          Gintama°   \n",
              "3      9253                       Steins;Gate   \n",
              "4      9969                     Gintama&#039;   \n",
              "\n",
              "                                               genre   type  episodes  \\\n",
              "0               Drama, Romance, School, Supernatural  Movie         1   \n",
              "1  Action, Adventure, Drama, Fantasy, Magic, Mili...     TV        64   \n",
              "2  Action, Comedy, Historical, Parody, Samurai, S...     TV        51   \n",
              "3                                   Sci-Fi, Thriller     TV        24   \n",
              "4  Action, Comedy, Historical, Parody, Samurai, S...     TV        51   \n",
              "\n",
              "   AverageRating  members  \n",
              "0           9.37   200630  \n",
              "1           9.26   793665  \n",
              "2           9.25   114262  \n",
              "3           9.17   673572  \n",
              "4           9.16   151266  "
            ],
            "text/html": [
              "\n",
              "  <div id=\"df-71c1cd00-abb2-4e58-9c8a-1cd3369dcff5\">\n",
              "    <div class=\"colab-df-container\">\n",
              "      <div>\n",
              "<style scoped>\n",
              "    .dataframe tbody tr th:only-of-type {\n",
              "        vertical-align: middle;\n",
              "    }\n",
              "\n",
              "    .dataframe tbody tr th {\n",
              "        vertical-align: top;\n",
              "    }\n",
              "\n",
              "    .dataframe thead th {\n",
              "        text-align: right;\n",
              "    }\n",
              "</style>\n",
              "<table border=\"1\" class=\"dataframe\">\n",
              "  <thead>\n",
              "    <tr style=\"text-align: right;\">\n",
              "      <th></th>\n",
              "      <th>anime_id</th>\n",
              "      <th>name</th>\n",
              "      <th>genre</th>\n",
              "      <th>type</th>\n",
              "      <th>episodes</th>\n",
              "      <th>AverageRating</th>\n",
              "      <th>members</th>\n",
              "    </tr>\n",
              "  </thead>\n",
              "  <tbody>\n",
              "    <tr>\n",
              "      <th>0</th>\n",
              "      <td>32281</td>\n",
              "      <td>Kimi no Na wa.</td>\n",
              "      <td>Drama, Romance, School, Supernatural</td>\n",
              "      <td>Movie</td>\n",
              "      <td>1</td>\n",
              "      <td>9.37</td>\n",
              "      <td>200630</td>\n",
              "    </tr>\n",
              "    <tr>\n",
              "      <th>1</th>\n",
              "      <td>5114</td>\n",
              "      <td>Fullmetal Alchemist: Brotherhood</td>\n",
              "      <td>Action, Adventure, Drama, Fantasy, Magic, Mili...</td>\n",
              "      <td>TV</td>\n",
              "      <td>64</td>\n",
              "      <td>9.26</td>\n",
              "      <td>793665</td>\n",
              "    </tr>\n",
              "    <tr>\n",
              "      <th>2</th>\n",
              "      <td>28977</td>\n",
              "      <td>Gintama°</td>\n",
              "      <td>Action, Comedy, Historical, Parody, Samurai, S...</td>\n",
              "      <td>TV</td>\n",
              "      <td>51</td>\n",
              "      <td>9.25</td>\n",
              "      <td>114262</td>\n",
              "    </tr>\n",
              "    <tr>\n",
              "      <th>3</th>\n",
              "      <td>9253</td>\n",
              "      <td>Steins;Gate</td>\n",
              "      <td>Sci-Fi, Thriller</td>\n",
              "      <td>TV</td>\n",
              "      <td>24</td>\n",
              "      <td>9.17</td>\n",
              "      <td>673572</td>\n",
              "    </tr>\n",
              "    <tr>\n",
              "      <th>4</th>\n",
              "      <td>9969</td>\n",
              "      <td>Gintama&amp;#039;</td>\n",
              "      <td>Action, Comedy, Historical, Parody, Samurai, S...</td>\n",
              "      <td>TV</td>\n",
              "      <td>51</td>\n",
              "      <td>9.16</td>\n",
              "      <td>151266</td>\n",
              "    </tr>\n",
              "  </tbody>\n",
              "</table>\n",
              "</div>\n",
              "      <button class=\"colab-df-convert\" onclick=\"convertToInteractive('df-71c1cd00-abb2-4e58-9c8a-1cd3369dcff5')\"\n",
              "              title=\"Convert this dataframe to an interactive table.\"\n",
              "              style=\"display:none;\">\n",
              "        \n",
              "  <svg xmlns=\"http://www.w3.org/2000/svg\" height=\"24px\"viewBox=\"0 0 24 24\"\n",
              "       width=\"24px\">\n",
              "    <path d=\"M0 0h24v24H0V0z\" fill=\"none\"/>\n",
              "    <path d=\"M18.56 5.44l.94 2.06.94-2.06 2.06-.94-2.06-.94-.94-2.06-.94 2.06-2.06.94zm-11 1L8.5 8.5l.94-2.06 2.06-.94-2.06-.94L8.5 2.5l-.94 2.06-2.06.94zm10 10l.94 2.06.94-2.06 2.06-.94-2.06-.94-.94-2.06-.94 2.06-2.06.94z\"/><path d=\"M17.41 7.96l-1.37-1.37c-.4-.4-.92-.59-1.43-.59-.52 0-1.04.2-1.43.59L10.3 9.45l-7.72 7.72c-.78.78-.78 2.05 0 2.83L4 21.41c.39.39.9.59 1.41.59.51 0 1.02-.2 1.41-.59l7.78-7.78 2.81-2.81c.8-.78.8-2.07 0-2.86zM5.41 20L4 18.59l7.72-7.72 1.47 1.35L5.41 20z\"/>\n",
              "  </svg>\n",
              "      </button>\n",
              "      \n",
              "  <style>\n",
              "    .colab-df-container {\n",
              "      display:flex;\n",
              "      flex-wrap:wrap;\n",
              "      gap: 12px;\n",
              "    }\n",
              "\n",
              "    .colab-df-convert {\n",
              "      background-color: #E8F0FE;\n",
              "      border: none;\n",
              "      border-radius: 50%;\n",
              "      cursor: pointer;\n",
              "      display: none;\n",
              "      fill: #1967D2;\n",
              "      height: 32px;\n",
              "      padding: 0 0 0 0;\n",
              "      width: 32px;\n",
              "    }\n",
              "\n",
              "    .colab-df-convert:hover {\n",
              "      background-color: #E2EBFA;\n",
              "      box-shadow: 0px 1px 2px rgba(60, 64, 67, 0.3), 0px 1px 3px 1px rgba(60, 64, 67, 0.15);\n",
              "      fill: #174EA6;\n",
              "    }\n",
              "\n",
              "    [theme=dark] .colab-df-convert {\n",
              "      background-color: #3B4455;\n",
              "      fill: #D2E3FC;\n",
              "    }\n",
              "\n",
              "    [theme=dark] .colab-df-convert:hover {\n",
              "      background-color: #434B5C;\n",
              "      box-shadow: 0px 1px 3px 1px rgba(0, 0, 0, 0.15);\n",
              "      filter: drop-shadow(0px 1px 2px rgba(0, 0, 0, 0.3));\n",
              "      fill: #FFFFFF;\n",
              "    }\n",
              "  </style>\n",
              "\n",
              "      <script>\n",
              "        const buttonEl =\n",
              "          document.querySelector('#df-71c1cd00-abb2-4e58-9c8a-1cd3369dcff5 button.colab-df-convert');\n",
              "        buttonEl.style.display =\n",
              "          google.colab.kernel.accessAllowed ? 'block' : 'none';\n",
              "\n",
              "        async function convertToInteractive(key) {\n",
              "          const element = document.querySelector('#df-71c1cd00-abb2-4e58-9c8a-1cd3369dcff5');\n",
              "          const dataTable =\n",
              "            await google.colab.kernel.invokeFunction('convertToInteractive',\n",
              "                                                     [key], {});\n",
              "          if (!dataTable) return;\n",
              "\n",
              "          const docLinkHtml = 'Like what you see? Visit the ' +\n",
              "            '<a target=\"_blank\" href=https://colab.research.google.com/notebooks/data_table.ipynb>data table notebook</a>'\n",
              "            + ' to learn more about interactive tables.';\n",
              "          element.innerHTML = '';\n",
              "          dataTable['output_type'] = 'display_data';\n",
              "          await google.colab.output.renderOutput(dataTable, element);\n",
              "          const docLink = document.createElement('div');\n",
              "          docLink.innerHTML = docLinkHtml;\n",
              "          element.appendChild(docLink);\n",
              "        }\n",
              "      </script>\n",
              "    </div>\n",
              "  </div>\n",
              "  "
            ]
          },
          "metadata": {},
          "execution_count": 49
        }
      ]
    },
    {
      "cell_type": "markdown",
      "source": [
        "Melakukan perubahan dataframe anime menjadi list yang ada"
      ],
      "metadata": {
        "id": "t-JDtO2FDJ7R"
      }
    },
    {
      "cell_type": "code",
      "source": [
        "#anime id\n",
        "anime_id = anime_data['anime_id'].tolist()\n",
        "#anime name\n",
        "anime_name = anime_data['name'].tolist()\n",
        "#anime genre\n",
        "anime_genre = anime_data['genre'].tolist()\n",
        "#anime type\n",
        "anime_type = anime_data['type'].tolist()\n",
        "#episode dari anime\n",
        "anime_episodes = anime_data['episodes'].tolist()\n",
        "#Average rating dari anime\n",
        "anime_AveRat = anime_data['AverageRating'].tolist()\n",
        "#Member dari \"group\" di anime\n",
        "anime_members = anime_data['members'].tolist()\n"
      ],
      "metadata": {
        "id": "2rhXymv-DHDq"
      },
      "execution_count": 50,
      "outputs": []
    },
    {
      "cell_type": "code",
      "source": [
        "#pembuatan dictionary\n",
        "anime = pd.DataFrame({\n",
        "    'anime_id': anime_id,\n",
        "    'anime_name': anime_name,\n",
        "    'anime_genre': anime_genre,\n",
        "    'anime_type': anime_type,\n",
        "    'anime_episodes': anime_episodes,\n",
        "    'anime_rating': anime_AveRat,\n",
        "    'anime_members': anime_members,\n",
        "})\n",
        "anime"
      ],
      "metadata": {
        "colab": {
          "base_uri": "https://localhost:8080/",
          "height": 606
        },
        "id": "UO3L-9lCERbr",
        "outputId": "d6cc547e-4d0c-450e-8578-064eef3f1ddd"
      },
      "execution_count": 52,
      "outputs": [
        {
          "output_type": "execute_result",
          "data": {
            "text/plain": [
              "     anime_id                        anime_name  \\\n",
              "0       32281                    Kimi no Na wa.   \n",
              "1        5114  Fullmetal Alchemist: Brotherhood   \n",
              "2       28977                          Gintama°   \n",
              "3        9253                       Steins;Gate   \n",
              "4        9969                     Gintama&#039;   \n",
              "..        ...                               ...   \n",
              "995       132                        GetBackers   \n",
              "996     14467                                 K   \n",
              "997      8532    Katekyo Hitman Reborn! Special   \n",
              "998      1606                         Kekkaishi   \n",
              "999      9136          Kuroshitsuji II Specials   \n",
              "\n",
              "                                           anime_genre anime_type  \\\n",
              "0                 Drama, Romance, School, Supernatural      Movie   \n",
              "1    Action, Adventure, Drama, Fantasy, Magic, Mili...         TV   \n",
              "2    Action, Comedy, Historical, Parody, Samurai, S...         TV   \n",
              "3                                     Sci-Fi, Thriller         TV   \n",
              "4    Action, Comedy, Historical, Parody, Samurai, S...         TV   \n",
              "..                                                 ...        ...   \n",
              "995  Action, Comedy, Drama, Mystery, Shounen, Super...         TV   \n",
              "996                  Action, Super Power, Supernatural         TV   \n",
              "997                                    Comedy, Shounen        ONA   \n",
              "998                Adventure, Comedy, Fantasy, Shounen         TV   \n",
              "999     Comedy, Fantasy, Parody, Shounen, Supernatural    Special   \n",
              "\n",
              "     anime_episodes  anime_rating  anime_members  \n",
              "0                 1          9.37         200630  \n",
              "1                64          9.26         793665  \n",
              "2                51          9.25         114262  \n",
              "3                24          9.17         673572  \n",
              "4                51          9.16         151266  \n",
              "..              ...           ...            ...  \n",
              "995              49          7.73          73536  \n",
              "996              13          7.73         297051  \n",
              "997               1          7.73          19991  \n",
              "998              52          7.73          61884  \n",
              "999               6          7.73          60899  \n",
              "\n",
              "[1000 rows x 7 columns]"
            ],
            "text/html": [
              "\n",
              "  <div id=\"df-9be3834e-af1a-49d3-9c33-514f4f783d9e\">\n",
              "    <div class=\"colab-df-container\">\n",
              "      <div>\n",
              "<style scoped>\n",
              "    .dataframe tbody tr th:only-of-type {\n",
              "        vertical-align: middle;\n",
              "    }\n",
              "\n",
              "    .dataframe tbody tr th {\n",
              "        vertical-align: top;\n",
              "    }\n",
              "\n",
              "    .dataframe thead th {\n",
              "        text-align: right;\n",
              "    }\n",
              "</style>\n",
              "<table border=\"1\" class=\"dataframe\">\n",
              "  <thead>\n",
              "    <tr style=\"text-align: right;\">\n",
              "      <th></th>\n",
              "      <th>anime_id</th>\n",
              "      <th>anime_name</th>\n",
              "      <th>anime_genre</th>\n",
              "      <th>anime_type</th>\n",
              "      <th>anime_episodes</th>\n",
              "      <th>anime_rating</th>\n",
              "      <th>anime_members</th>\n",
              "    </tr>\n",
              "  </thead>\n",
              "  <tbody>\n",
              "    <tr>\n",
              "      <th>0</th>\n",
              "      <td>32281</td>\n",
              "      <td>Kimi no Na wa.</td>\n",
              "      <td>Drama, Romance, School, Supernatural</td>\n",
              "      <td>Movie</td>\n",
              "      <td>1</td>\n",
              "      <td>9.37</td>\n",
              "      <td>200630</td>\n",
              "    </tr>\n",
              "    <tr>\n",
              "      <th>1</th>\n",
              "      <td>5114</td>\n",
              "      <td>Fullmetal Alchemist: Brotherhood</td>\n",
              "      <td>Action, Adventure, Drama, Fantasy, Magic, Mili...</td>\n",
              "      <td>TV</td>\n",
              "      <td>64</td>\n",
              "      <td>9.26</td>\n",
              "      <td>793665</td>\n",
              "    </tr>\n",
              "    <tr>\n",
              "      <th>2</th>\n",
              "      <td>28977</td>\n",
              "      <td>Gintama°</td>\n",
              "      <td>Action, Comedy, Historical, Parody, Samurai, S...</td>\n",
              "      <td>TV</td>\n",
              "      <td>51</td>\n",
              "      <td>9.25</td>\n",
              "      <td>114262</td>\n",
              "    </tr>\n",
              "    <tr>\n",
              "      <th>3</th>\n",
              "      <td>9253</td>\n",
              "      <td>Steins;Gate</td>\n",
              "      <td>Sci-Fi, Thriller</td>\n",
              "      <td>TV</td>\n",
              "      <td>24</td>\n",
              "      <td>9.17</td>\n",
              "      <td>673572</td>\n",
              "    </tr>\n",
              "    <tr>\n",
              "      <th>4</th>\n",
              "      <td>9969</td>\n",
              "      <td>Gintama&amp;#039;</td>\n",
              "      <td>Action, Comedy, Historical, Parody, Samurai, S...</td>\n",
              "      <td>TV</td>\n",
              "      <td>51</td>\n",
              "      <td>9.16</td>\n",
              "      <td>151266</td>\n",
              "    </tr>\n",
              "    <tr>\n",
              "      <th>...</th>\n",
              "      <td>...</td>\n",
              "      <td>...</td>\n",
              "      <td>...</td>\n",
              "      <td>...</td>\n",
              "      <td>...</td>\n",
              "      <td>...</td>\n",
              "      <td>...</td>\n",
              "    </tr>\n",
              "    <tr>\n",
              "      <th>995</th>\n",
              "      <td>132</td>\n",
              "      <td>GetBackers</td>\n",
              "      <td>Action, Comedy, Drama, Mystery, Shounen, Super...</td>\n",
              "      <td>TV</td>\n",
              "      <td>49</td>\n",
              "      <td>7.73</td>\n",
              "      <td>73536</td>\n",
              "    </tr>\n",
              "    <tr>\n",
              "      <th>996</th>\n",
              "      <td>14467</td>\n",
              "      <td>K</td>\n",
              "      <td>Action, Super Power, Supernatural</td>\n",
              "      <td>TV</td>\n",
              "      <td>13</td>\n",
              "      <td>7.73</td>\n",
              "      <td>297051</td>\n",
              "    </tr>\n",
              "    <tr>\n",
              "      <th>997</th>\n",
              "      <td>8532</td>\n",
              "      <td>Katekyo Hitman Reborn! Special</td>\n",
              "      <td>Comedy, Shounen</td>\n",
              "      <td>ONA</td>\n",
              "      <td>1</td>\n",
              "      <td>7.73</td>\n",
              "      <td>19991</td>\n",
              "    </tr>\n",
              "    <tr>\n",
              "      <th>998</th>\n",
              "      <td>1606</td>\n",
              "      <td>Kekkaishi</td>\n",
              "      <td>Adventure, Comedy, Fantasy, Shounen</td>\n",
              "      <td>TV</td>\n",
              "      <td>52</td>\n",
              "      <td>7.73</td>\n",
              "      <td>61884</td>\n",
              "    </tr>\n",
              "    <tr>\n",
              "      <th>999</th>\n",
              "      <td>9136</td>\n",
              "      <td>Kuroshitsuji II Specials</td>\n",
              "      <td>Comedy, Fantasy, Parody, Shounen, Supernatural</td>\n",
              "      <td>Special</td>\n",
              "      <td>6</td>\n",
              "      <td>7.73</td>\n",
              "      <td>60899</td>\n",
              "    </tr>\n",
              "  </tbody>\n",
              "</table>\n",
              "<p>1000 rows × 7 columns</p>\n",
              "</div>\n",
              "      <button class=\"colab-df-convert\" onclick=\"convertToInteractive('df-9be3834e-af1a-49d3-9c33-514f4f783d9e')\"\n",
              "              title=\"Convert this dataframe to an interactive table.\"\n",
              "              style=\"display:none;\">\n",
              "        \n",
              "  <svg xmlns=\"http://www.w3.org/2000/svg\" height=\"24px\"viewBox=\"0 0 24 24\"\n",
              "       width=\"24px\">\n",
              "    <path d=\"M0 0h24v24H0V0z\" fill=\"none\"/>\n",
              "    <path d=\"M18.56 5.44l.94 2.06.94-2.06 2.06-.94-2.06-.94-.94-2.06-.94 2.06-2.06.94zm-11 1L8.5 8.5l.94-2.06 2.06-.94-2.06-.94L8.5 2.5l-.94 2.06-2.06.94zm10 10l.94 2.06.94-2.06 2.06-.94-2.06-.94-.94-2.06-.94 2.06-2.06.94z\"/><path d=\"M17.41 7.96l-1.37-1.37c-.4-.4-.92-.59-1.43-.59-.52 0-1.04.2-1.43.59L10.3 9.45l-7.72 7.72c-.78.78-.78 2.05 0 2.83L4 21.41c.39.39.9.59 1.41.59.51 0 1.02-.2 1.41-.59l7.78-7.78 2.81-2.81c.8-.78.8-2.07 0-2.86zM5.41 20L4 18.59l7.72-7.72 1.47 1.35L5.41 20z\"/>\n",
              "  </svg>\n",
              "      </button>\n",
              "      \n",
              "  <style>\n",
              "    .colab-df-container {\n",
              "      display:flex;\n",
              "      flex-wrap:wrap;\n",
              "      gap: 12px;\n",
              "    }\n",
              "\n",
              "    .colab-df-convert {\n",
              "      background-color: #E8F0FE;\n",
              "      border: none;\n",
              "      border-radius: 50%;\n",
              "      cursor: pointer;\n",
              "      display: none;\n",
              "      fill: #1967D2;\n",
              "      height: 32px;\n",
              "      padding: 0 0 0 0;\n",
              "      width: 32px;\n",
              "    }\n",
              "\n",
              "    .colab-df-convert:hover {\n",
              "      background-color: #E2EBFA;\n",
              "      box-shadow: 0px 1px 2px rgba(60, 64, 67, 0.3), 0px 1px 3px 1px rgba(60, 64, 67, 0.15);\n",
              "      fill: #174EA6;\n",
              "    }\n",
              "\n",
              "    [theme=dark] .colab-df-convert {\n",
              "      background-color: #3B4455;\n",
              "      fill: #D2E3FC;\n",
              "    }\n",
              "\n",
              "    [theme=dark] .colab-df-convert:hover {\n",
              "      background-color: #434B5C;\n",
              "      box-shadow: 0px 1px 3px 1px rgba(0, 0, 0, 0.15);\n",
              "      filter: drop-shadow(0px 1px 2px rgba(0, 0, 0, 0.3));\n",
              "      fill: #FFFFFF;\n",
              "    }\n",
              "  </style>\n",
              "\n",
              "      <script>\n",
              "        const buttonEl =\n",
              "          document.querySelector('#df-9be3834e-af1a-49d3-9c33-514f4f783d9e button.colab-df-convert');\n",
              "        buttonEl.style.display =\n",
              "          google.colab.kernel.accessAllowed ? 'block' : 'none';\n",
              "\n",
              "        async function convertToInteractive(key) {\n",
              "          const element = document.querySelector('#df-9be3834e-af1a-49d3-9c33-514f4f783d9e');\n",
              "          const dataTable =\n",
              "            await google.colab.kernel.invokeFunction('convertToInteractive',\n",
              "                                                     [key], {});\n",
              "          if (!dataTable) return;\n",
              "\n",
              "          const docLinkHtml = 'Like what you see? Visit the ' +\n",
              "            '<a target=\"_blank\" href=https://colab.research.google.com/notebooks/data_table.ipynb>data table notebook</a>'\n",
              "            + ' to learn more about interactive tables.';\n",
              "          element.innerHTML = '';\n",
              "          dataTable['output_type'] = 'display_data';\n",
              "          await google.colab.output.renderOutput(dataTable, element);\n",
              "          const docLink = document.createElement('div');\n",
              "          docLink.innerHTML = docLinkHtml;\n",
              "          element.appendChild(docLink);\n",
              "        }\n",
              "      </script>\n",
              "    </div>\n",
              "  </div>\n",
              "  "
            ]
          },
          "metadata": {},
          "execution_count": 52
        }
      ]
    },
    {
      "cell_type": "markdown",
      "source": [
        "### Modelling "
      ],
      "metadata": {
        "id": "BXYxNem1E2Nr"
      }
    },
    {
      "cell_type": "markdown",
      "source": [
        "Menggunakan TF-IDF Vectorizer untuk membangun sistem rekomendasi berdasarkan penulis buku. TF-IDF yang merupakan kepanjangan dari Term Frequency-Inverse Document Frequency memiliki fungsi untuk mengukur seberapa pentingnya suatu kata terhadap kata - kata lain dalam dokumen.\n"
      ],
      "metadata": {
        "id": "OoAysNQNFF4e"
      }
    },
    {
      "cell_type": "code",
      "source": [
        "#dalam sistem rekomendasi anime ini akan menggunakan type dari anime\n",
        "\n",
        "from sklearn.feature_extraction.text import TfidfVectorizer\n",
        " \n",
        "tf = TfidfVectorizer()\n",
        "tf.fit(anime['anime_type']) \n",
        "tf.get_feature_names() "
      ],
      "metadata": {
        "colab": {
          "base_uri": "https://localhost:8080/"
        },
        "id": "4oTD3W8EEza6",
        "outputId": "beb2cce7-d2d2-4cd3-8dff-a268ceea2d68"
      },
      "execution_count": 53,
      "outputs": [
        {
          "output_type": "stream",
          "name": "stderr",
          "text": [
            "/usr/local/lib/python3.7/dist-packages/sklearn/utils/deprecation.py:87: FutureWarning: Function get_feature_names is deprecated; get_feature_names is deprecated in 1.0 and will be removed in 1.2. Please use get_feature_names_out instead.\n",
            "  warnings.warn(msg, category=FutureWarning)\n"
          ]
        },
        {
          "output_type": "execute_result",
          "data": {
            "text/plain": [
              "['movie', 'music', 'ona', 'ova', 'special', 'tv']"
            ]
          },
          "metadata": {},
          "execution_count": 53
        }
      ]
    },
    {
      "cell_type": "code",
      "source": [
        "#fit dan transformasi matrix\n",
        "tfidf_matrix = tf.fit_transform(anime['anime_type']) \n",
        "tfidf_matrix.shape "
      ],
      "metadata": {
        "colab": {
          "base_uri": "https://localhost:8080/"
        },
        "id": "PJpRaKVjFgCH",
        "outputId": "c121a49c-6b8f-410e-cd94-29481bb0008c"
      },
      "execution_count": 54,
      "outputs": [
        {
          "output_type": "execute_result",
          "data": {
            "text/plain": [
              "(1000, 6)"
            ]
          },
          "metadata": {},
          "execution_count": 54
        }
      ]
    },
    {
      "cell_type": "code",
      "source": [
        "#mengubah vektor menjadi matrix\n",
        "tfidf_matrix.todense()"
      ],
      "metadata": {
        "colab": {
          "base_uri": "https://localhost:8080/"
        },
        "id": "-CzwsRsJFutZ",
        "outputId": "e700e7d2-b103-4c16-b6be-12b71ca8aa0c"
      },
      "execution_count": 55,
      "outputs": [
        {
          "output_type": "execute_result",
          "data": {
            "text/plain": [
              "matrix([[1., 0., 0., 0., 0., 0.],\n",
              "        [0., 0., 0., 0., 0., 1.],\n",
              "        [0., 0., 0., 0., 0., 1.],\n",
              "        ...,\n",
              "        [0., 0., 1., 0., 0., 0.],\n",
              "        [0., 0., 0., 0., 0., 1.],\n",
              "        [0., 0., 0., 0., 1., 0.]])"
            ]
          },
          "metadata": {},
          "execution_count": 55
        }
      ]
    },
    {
      "cell_type": "code",
      "source": [
        "#melihat dataframe berdasarkan matrix antara nama anime (judul) dengan type\n",
        "pd.DataFrame(\n",
        "    tfidf_matrix.todense(), \n",
        "    columns=tf.get_feature_names(),\n",
        "    index=anime.anime_name\n",
        ").sample(6, axis=1,replace=True).sample(6, axis=0)"
      ],
      "metadata": {
        "colab": {
          "base_uri": "https://localhost:8080/",
          "height": 323
        },
        "id": "TjTpUn4aF-PU",
        "outputId": "20073df4-9098-48cc-c58b-1842d65aeabc"
      },
      "execution_count": 59,
      "outputs": [
        {
          "output_type": "stream",
          "name": "stderr",
          "text": [
            "/usr/local/lib/python3.7/dist-packages/sklearn/utils/deprecation.py:87: FutureWarning: Function get_feature_names is deprecated; get_feature_names is deprecated in 1.0 and will be removed in 1.2. Please use get_feature_names_out instead.\n",
            "  warnings.warn(msg, category=FutureWarning)\n"
          ]
        },
        {
          "output_type": "execute_result",
          "data": {
            "text/plain": [
              "                                                    movie   tv  movie  \\\n",
              "anime_name                                                              \n",
              "Tengen Toppa Gurren Lagann Movie: Gurren-hen          1.0  0.0    1.0   \n",
              "Kuroko no Basket: Baka ja Katenai no yo!              0.0  0.0    0.0   \n",
              "Zetsuen no Tempest                                    0.0  1.0    0.0   \n",
              "Danganronpa 3: The End of Kibougamine Gakuen - ...    0.0  1.0    0.0   \n",
              "Tiger &amp; Bunny Movie 2: The Rising                 1.0  0.0    1.0   \n",
              "Kaiba                                                 0.0  1.0    0.0   \n",
              "\n",
              "                                                    special  ova  ova  \n",
              "anime_name                                                             \n",
              "Tengen Toppa Gurren Lagann Movie: Gurren-hen            0.0  0.0  0.0  \n",
              "Kuroko no Basket: Baka ja Katenai no yo!                0.0  1.0  1.0  \n",
              "Zetsuen no Tempest                                      0.0  0.0  0.0  \n",
              "Danganronpa 3: The End of Kibougamine Gakuen - ...      0.0  0.0  0.0  \n",
              "Tiger &amp; Bunny Movie 2: The Rising                   0.0  0.0  0.0  \n",
              "Kaiba                                                   0.0  0.0  0.0  "
            ],
            "text/html": [
              "\n",
              "  <div id=\"df-8ee48d4e-f1d9-43d4-86a0-759d1ab1f63b\">\n",
              "    <div class=\"colab-df-container\">\n",
              "      <div>\n",
              "<style scoped>\n",
              "    .dataframe tbody tr th:only-of-type {\n",
              "        vertical-align: middle;\n",
              "    }\n",
              "\n",
              "    .dataframe tbody tr th {\n",
              "        vertical-align: top;\n",
              "    }\n",
              "\n",
              "    .dataframe thead th {\n",
              "        text-align: right;\n",
              "    }\n",
              "</style>\n",
              "<table border=\"1\" class=\"dataframe\">\n",
              "  <thead>\n",
              "    <tr style=\"text-align: right;\">\n",
              "      <th></th>\n",
              "      <th>movie</th>\n",
              "      <th>tv</th>\n",
              "      <th>movie</th>\n",
              "      <th>special</th>\n",
              "      <th>ova</th>\n",
              "      <th>ova</th>\n",
              "    </tr>\n",
              "    <tr>\n",
              "      <th>anime_name</th>\n",
              "      <th></th>\n",
              "      <th></th>\n",
              "      <th></th>\n",
              "      <th></th>\n",
              "      <th></th>\n",
              "      <th></th>\n",
              "    </tr>\n",
              "  </thead>\n",
              "  <tbody>\n",
              "    <tr>\n",
              "      <th>Tengen Toppa Gurren Lagann Movie: Gurren-hen</th>\n",
              "      <td>1.0</td>\n",
              "      <td>0.0</td>\n",
              "      <td>1.0</td>\n",
              "      <td>0.0</td>\n",
              "      <td>0.0</td>\n",
              "      <td>0.0</td>\n",
              "    </tr>\n",
              "    <tr>\n",
              "      <th>Kuroko no Basket: Baka ja Katenai no yo!</th>\n",
              "      <td>0.0</td>\n",
              "      <td>0.0</td>\n",
              "      <td>0.0</td>\n",
              "      <td>0.0</td>\n",
              "      <td>1.0</td>\n",
              "      <td>1.0</td>\n",
              "    </tr>\n",
              "    <tr>\n",
              "      <th>Zetsuen no Tempest</th>\n",
              "      <td>0.0</td>\n",
              "      <td>1.0</td>\n",
              "      <td>0.0</td>\n",
              "      <td>0.0</td>\n",
              "      <td>0.0</td>\n",
              "      <td>0.0</td>\n",
              "    </tr>\n",
              "    <tr>\n",
              "      <th>Danganronpa 3: The End of Kibougamine Gakuen - Zetsubou-hen</th>\n",
              "      <td>0.0</td>\n",
              "      <td>1.0</td>\n",
              "      <td>0.0</td>\n",
              "      <td>0.0</td>\n",
              "      <td>0.0</td>\n",
              "      <td>0.0</td>\n",
              "    </tr>\n",
              "    <tr>\n",
              "      <th>Tiger &amp;amp; Bunny Movie 2: The Rising</th>\n",
              "      <td>1.0</td>\n",
              "      <td>0.0</td>\n",
              "      <td>1.0</td>\n",
              "      <td>0.0</td>\n",
              "      <td>0.0</td>\n",
              "      <td>0.0</td>\n",
              "    </tr>\n",
              "    <tr>\n",
              "      <th>Kaiba</th>\n",
              "      <td>0.0</td>\n",
              "      <td>1.0</td>\n",
              "      <td>0.0</td>\n",
              "      <td>0.0</td>\n",
              "      <td>0.0</td>\n",
              "      <td>0.0</td>\n",
              "    </tr>\n",
              "  </tbody>\n",
              "</table>\n",
              "</div>\n",
              "      <button class=\"colab-df-convert\" onclick=\"convertToInteractive('df-8ee48d4e-f1d9-43d4-86a0-759d1ab1f63b')\"\n",
              "              title=\"Convert this dataframe to an interactive table.\"\n",
              "              style=\"display:none;\">\n",
              "        \n",
              "  <svg xmlns=\"http://www.w3.org/2000/svg\" height=\"24px\"viewBox=\"0 0 24 24\"\n",
              "       width=\"24px\">\n",
              "    <path d=\"M0 0h24v24H0V0z\" fill=\"none\"/>\n",
              "    <path d=\"M18.56 5.44l.94 2.06.94-2.06 2.06-.94-2.06-.94-.94-2.06-.94 2.06-2.06.94zm-11 1L8.5 8.5l.94-2.06 2.06-.94-2.06-.94L8.5 2.5l-.94 2.06-2.06.94zm10 10l.94 2.06.94-2.06 2.06-.94-2.06-.94-.94-2.06-.94 2.06-2.06.94z\"/><path d=\"M17.41 7.96l-1.37-1.37c-.4-.4-.92-.59-1.43-.59-.52 0-1.04.2-1.43.59L10.3 9.45l-7.72 7.72c-.78.78-.78 2.05 0 2.83L4 21.41c.39.39.9.59 1.41.59.51 0 1.02-.2 1.41-.59l7.78-7.78 2.81-2.81c.8-.78.8-2.07 0-2.86zM5.41 20L4 18.59l7.72-7.72 1.47 1.35L5.41 20z\"/>\n",
              "  </svg>\n",
              "      </button>\n",
              "      \n",
              "  <style>\n",
              "    .colab-df-container {\n",
              "      display:flex;\n",
              "      flex-wrap:wrap;\n",
              "      gap: 12px;\n",
              "    }\n",
              "\n",
              "    .colab-df-convert {\n",
              "      background-color: #E8F0FE;\n",
              "      border: none;\n",
              "      border-radius: 50%;\n",
              "      cursor: pointer;\n",
              "      display: none;\n",
              "      fill: #1967D2;\n",
              "      height: 32px;\n",
              "      padding: 0 0 0 0;\n",
              "      width: 32px;\n",
              "    }\n",
              "\n",
              "    .colab-df-convert:hover {\n",
              "      background-color: #E2EBFA;\n",
              "      box-shadow: 0px 1px 2px rgba(60, 64, 67, 0.3), 0px 1px 3px 1px rgba(60, 64, 67, 0.15);\n",
              "      fill: #174EA6;\n",
              "    }\n",
              "\n",
              "    [theme=dark] .colab-df-convert {\n",
              "      background-color: #3B4455;\n",
              "      fill: #D2E3FC;\n",
              "    }\n",
              "\n",
              "    [theme=dark] .colab-df-convert:hover {\n",
              "      background-color: #434B5C;\n",
              "      box-shadow: 0px 1px 3px 1px rgba(0, 0, 0, 0.15);\n",
              "      filter: drop-shadow(0px 1px 2px rgba(0, 0, 0, 0.3));\n",
              "      fill: #FFFFFF;\n",
              "    }\n",
              "  </style>\n",
              "\n",
              "      <script>\n",
              "        const buttonEl =\n",
              "          document.querySelector('#df-8ee48d4e-f1d9-43d4-86a0-759d1ab1f63b button.colab-df-convert');\n",
              "        buttonEl.style.display =\n",
              "          google.colab.kernel.accessAllowed ? 'block' : 'none';\n",
              "\n",
              "        async function convertToInteractive(key) {\n",
              "          const element = document.querySelector('#df-8ee48d4e-f1d9-43d4-86a0-759d1ab1f63b');\n",
              "          const dataTable =\n",
              "            await google.colab.kernel.invokeFunction('convertToInteractive',\n",
              "                                                     [key], {});\n",
              "          if (!dataTable) return;\n",
              "\n",
              "          const docLinkHtml = 'Like what you see? Visit the ' +\n",
              "            '<a target=\"_blank\" href=https://colab.research.google.com/notebooks/data_table.ipynb>data table notebook</a>'\n",
              "            + ' to learn more about interactive tables.';\n",
              "          element.innerHTML = '';\n",
              "          dataTable['output_type'] = 'display_data';\n",
              "          await google.colab.output.renderOutput(dataTable, element);\n",
              "          const docLink = document.createElement('div');\n",
              "          docLink.innerHTML = docLinkHtml;\n",
              "          element.appendChild(docLink);\n",
              "        }\n",
              "      </script>\n",
              "    </div>\n",
              "  </div>\n",
              "  "
            ]
          },
          "metadata": {},
          "execution_count": 59
        }
      ]
    },
    {
      "cell_type": "code",
      "source": [
        "# penggunaan cosine similarity untuk dapat melakukan rekomendasi\n",
        "from sklearn.metrics.pairwise import cosine_similarity\n",
        " \n",
        "cosine_sim = cosine_similarity(tfidf_matrix) \n",
        "cosine_sim"
      ],
      "metadata": {
        "colab": {
          "base_uri": "https://localhost:8080/"
        },
        "id": "4Su2miZcGnUK",
        "outputId": "fd4c6278-a66e-4599-913d-40dae174c9ae"
      },
      "execution_count": 60,
      "outputs": [
        {
          "output_type": "execute_result",
          "data": {
            "text/plain": [
              "array([[1., 0., 0., ..., 0., 0., 0.],\n",
              "       [0., 1., 1., ..., 0., 1., 0.],\n",
              "       [0., 1., 1., ..., 0., 1., 0.],\n",
              "       ...,\n",
              "       [0., 0., 0., ..., 1., 0., 0.],\n",
              "       [0., 1., 1., ..., 0., 1., 0.],\n",
              "       [0., 0., 0., ..., 0., 0., 1.]])"
            ]
          },
          "metadata": {},
          "execution_count": 60
        }
      ]
    },
    {
      "cell_type": "code",
      "source": [
        "#pembuatan dataframe dengan baris dan kolom adalah judul anime\n",
        "\n",
        "cosine_sim_df = pd.DataFrame(cosine_sim, index=anime['anime_name'], columns=anime['anime_name'])"
      ],
      "metadata": {
        "id": "qyrVZ_C1G67K"
      },
      "execution_count": 61,
      "outputs": []
    },
    {
      "cell_type": "markdown",
      "source": [
        "fungsi dibawah merupakan fungsi untuk mendapatkan rekomendasi berbasis tipe anime k sebagai jumlah rekomendasi yang diingkan, dalam fungsi ini, kita akan mendapatkan 5 rekomendasi\n",
        "\n",
        "Atribut argpartition berguna untuk mengambil sejumlah nilai k, dalam fungsi ini 5 tertinggi dari tingkat kesamaan yang berasal dari dataframe cosine_sim_df.\n"
      ],
      "metadata": {
        "id": "MuO4bpn9H7zM"
      }
    },
    {
      "cell_type": "code",
      "source": [
        "def anime_type_recommendation(i, M, items, k=5):\n",
        "    ix = M.loc[:,i].to_numpy().argpartition(range(-1,-k,-1))\n",
        "    closest = M.columns[ix[-1:-(k+2):-1]]\n",
        "    closest = closest.drop(i, errors='ignore')\n",
        "    return pd.DataFrame(closest).merge(items).head(k)"
      ],
      "metadata": {
        "id": "7nPan8g0Hk3W"
      },
      "execution_count": 62,
      "outputs": []
    },
    {
      "cell_type": "code",
      "source": [
        "#dataframe anime yang sudah di tonton\n",
        "anime_ditonton = \"Kaiba\"\n",
        "anime[anime.anime_name.eq(anime_ditonton)]"
      ],
      "metadata": {
        "colab": {
          "base_uri": "https://localhost:8080/",
          "height": 80
        },
        "id": "SIEAFpgNIKh1",
        "outputId": "99998e77-a47f-4e8f-9b71-7090a467056d"
      },
      "execution_count": 64,
      "outputs": [
        {
          "output_type": "execute_result",
          "data": {
            "text/plain": [
              "     anime_id anime_name                          anime_genre anime_type  \\\n",
              "230      3701      Kaiba  Adventure, Mystery, Romance, Sci-Fi         TV   \n",
              "\n",
              "     anime_episodes  anime_rating  anime_members  \n",
              "230              12          8.29          56927  "
            ],
            "text/html": [
              "\n",
              "  <div id=\"df-abe04c3e-f4ac-4bcd-8c91-68b8651f068a\">\n",
              "    <div class=\"colab-df-container\">\n",
              "      <div>\n",
              "<style scoped>\n",
              "    .dataframe tbody tr th:only-of-type {\n",
              "        vertical-align: middle;\n",
              "    }\n",
              "\n",
              "    .dataframe tbody tr th {\n",
              "        vertical-align: top;\n",
              "    }\n",
              "\n",
              "    .dataframe thead th {\n",
              "        text-align: right;\n",
              "    }\n",
              "</style>\n",
              "<table border=\"1\" class=\"dataframe\">\n",
              "  <thead>\n",
              "    <tr style=\"text-align: right;\">\n",
              "      <th></th>\n",
              "      <th>anime_id</th>\n",
              "      <th>anime_name</th>\n",
              "      <th>anime_genre</th>\n",
              "      <th>anime_type</th>\n",
              "      <th>anime_episodes</th>\n",
              "      <th>anime_rating</th>\n",
              "      <th>anime_members</th>\n",
              "    </tr>\n",
              "  </thead>\n",
              "  <tbody>\n",
              "    <tr>\n",
              "      <th>230</th>\n",
              "      <td>3701</td>\n",
              "      <td>Kaiba</td>\n",
              "      <td>Adventure, Mystery, Romance, Sci-Fi</td>\n",
              "      <td>TV</td>\n",
              "      <td>12</td>\n",
              "      <td>8.29</td>\n",
              "      <td>56927</td>\n",
              "    </tr>\n",
              "  </tbody>\n",
              "</table>\n",
              "</div>\n",
              "      <button class=\"colab-df-convert\" onclick=\"convertToInteractive('df-abe04c3e-f4ac-4bcd-8c91-68b8651f068a')\"\n",
              "              title=\"Convert this dataframe to an interactive table.\"\n",
              "              style=\"display:none;\">\n",
              "        \n",
              "  <svg xmlns=\"http://www.w3.org/2000/svg\" height=\"24px\"viewBox=\"0 0 24 24\"\n",
              "       width=\"24px\">\n",
              "    <path d=\"M0 0h24v24H0V0z\" fill=\"none\"/>\n",
              "    <path d=\"M18.56 5.44l.94 2.06.94-2.06 2.06-.94-2.06-.94-.94-2.06-.94 2.06-2.06.94zm-11 1L8.5 8.5l.94-2.06 2.06-.94-2.06-.94L8.5 2.5l-.94 2.06-2.06.94zm10 10l.94 2.06.94-2.06 2.06-.94-2.06-.94-.94-2.06-.94 2.06-2.06.94z\"/><path d=\"M17.41 7.96l-1.37-1.37c-.4-.4-.92-.59-1.43-.59-.52 0-1.04.2-1.43.59L10.3 9.45l-7.72 7.72c-.78.78-.78 2.05 0 2.83L4 21.41c.39.39.9.59 1.41.59.51 0 1.02-.2 1.41-.59l7.78-7.78 2.81-2.81c.8-.78.8-2.07 0-2.86zM5.41 20L4 18.59l7.72-7.72 1.47 1.35L5.41 20z\"/>\n",
              "  </svg>\n",
              "      </button>\n",
              "      \n",
              "  <style>\n",
              "    .colab-df-container {\n",
              "      display:flex;\n",
              "      flex-wrap:wrap;\n",
              "      gap: 12px;\n",
              "    }\n",
              "\n",
              "    .colab-df-convert {\n",
              "      background-color: #E8F0FE;\n",
              "      border: none;\n",
              "      border-radius: 50%;\n",
              "      cursor: pointer;\n",
              "      display: none;\n",
              "      fill: #1967D2;\n",
              "      height: 32px;\n",
              "      padding: 0 0 0 0;\n",
              "      width: 32px;\n",
              "    }\n",
              "\n",
              "    .colab-df-convert:hover {\n",
              "      background-color: #E2EBFA;\n",
              "      box-shadow: 0px 1px 2px rgba(60, 64, 67, 0.3), 0px 1px 3px 1px rgba(60, 64, 67, 0.15);\n",
              "      fill: #174EA6;\n",
              "    }\n",
              "\n",
              "    [theme=dark] .colab-df-convert {\n",
              "      background-color: #3B4455;\n",
              "      fill: #D2E3FC;\n",
              "    }\n",
              "\n",
              "    [theme=dark] .colab-df-convert:hover {\n",
              "      background-color: #434B5C;\n",
              "      box-shadow: 0px 1px 3px 1px rgba(0, 0, 0, 0.15);\n",
              "      filter: drop-shadow(0px 1px 2px rgba(0, 0, 0, 0.3));\n",
              "      fill: #FFFFFF;\n",
              "    }\n",
              "  </style>\n",
              "\n",
              "      <script>\n",
              "        const buttonEl =\n",
              "          document.querySelector('#df-abe04c3e-f4ac-4bcd-8c91-68b8651f068a button.colab-df-convert');\n",
              "        buttonEl.style.display =\n",
              "          google.colab.kernel.accessAllowed ? 'block' : 'none';\n",
              "\n",
              "        async function convertToInteractive(key) {\n",
              "          const element = document.querySelector('#df-abe04c3e-f4ac-4bcd-8c91-68b8651f068a');\n",
              "          const dataTable =\n",
              "            await google.colab.kernel.invokeFunction('convertToInteractive',\n",
              "                                                     [key], {});\n",
              "          if (!dataTable) return;\n",
              "\n",
              "          const docLinkHtml = 'Like what you see? Visit the ' +\n",
              "            '<a target=\"_blank\" href=https://colab.research.google.com/notebooks/data_table.ipynb>data table notebook</a>'\n",
              "            + ' to learn more about interactive tables.';\n",
              "          element.innerHTML = '';\n",
              "          dataTable['output_type'] = 'display_data';\n",
              "          await google.colab.output.renderOutput(dataTable, element);\n",
              "          const docLink = document.createElement('div');\n",
              "          docLink.innerHTML = docLinkHtml;\n",
              "          element.appendChild(docLink);\n",
              "        }\n",
              "      </script>\n",
              "    </div>\n",
              "  </div>\n",
              "  "
            ]
          },
          "metadata": {},
          "execution_count": 64
        }
      ]
    },
    {
      "cell_type": "code",
      "source": [
        "#testing rekomendasi\n",
        "recommendations = anime_type_recommendation(anime_ditonton, cosine_sim_df, anime[['anime_name', 'anime_type']])"
      ],
      "metadata": {
        "id": "XpdaXuapIoy_"
      },
      "execution_count": 65,
      "outputs": []
    },
    {
      "cell_type": "code",
      "source": [
        "#show recommendations\n",
        "recommendations"
      ],
      "metadata": {
        "colab": {
          "base_uri": "https://localhost:8080/",
          "height": 206
        },
        "id": "uW12jMKoI4Ih",
        "outputId": "72ead0a7-74e5-40c6-fd47-5e55f7d213d2"
      },
      "execution_count": 66,
      "outputs": [
        {
          "output_type": "execute_result",
          "data": {
            "text/plain": [
              "                          anime_name anime_type\n",
              "0                        Saint Seiya         TV\n",
              "1                    Uchouten Kazoku         TV\n",
              "2                         Baby Steps         TV\n",
              "3  Kindaichi Shounen no Jikenbo (TV)         TV\n",
              "4               Tentai Senshi Sunred         TV"
            ],
            "text/html": [
              "\n",
              "  <div id=\"df-1aafce83-b29c-4522-b38a-99da217654a8\">\n",
              "    <div class=\"colab-df-container\">\n",
              "      <div>\n",
              "<style scoped>\n",
              "    .dataframe tbody tr th:only-of-type {\n",
              "        vertical-align: middle;\n",
              "    }\n",
              "\n",
              "    .dataframe tbody tr th {\n",
              "        vertical-align: top;\n",
              "    }\n",
              "\n",
              "    .dataframe thead th {\n",
              "        text-align: right;\n",
              "    }\n",
              "</style>\n",
              "<table border=\"1\" class=\"dataframe\">\n",
              "  <thead>\n",
              "    <tr style=\"text-align: right;\">\n",
              "      <th></th>\n",
              "      <th>anime_name</th>\n",
              "      <th>anime_type</th>\n",
              "    </tr>\n",
              "  </thead>\n",
              "  <tbody>\n",
              "    <tr>\n",
              "      <th>0</th>\n",
              "      <td>Saint Seiya</td>\n",
              "      <td>TV</td>\n",
              "    </tr>\n",
              "    <tr>\n",
              "      <th>1</th>\n",
              "      <td>Uchouten Kazoku</td>\n",
              "      <td>TV</td>\n",
              "    </tr>\n",
              "    <tr>\n",
              "      <th>2</th>\n",
              "      <td>Baby Steps</td>\n",
              "      <td>TV</td>\n",
              "    </tr>\n",
              "    <tr>\n",
              "      <th>3</th>\n",
              "      <td>Kindaichi Shounen no Jikenbo (TV)</td>\n",
              "      <td>TV</td>\n",
              "    </tr>\n",
              "    <tr>\n",
              "      <th>4</th>\n",
              "      <td>Tentai Senshi Sunred</td>\n",
              "      <td>TV</td>\n",
              "    </tr>\n",
              "  </tbody>\n",
              "</table>\n",
              "</div>\n",
              "      <button class=\"colab-df-convert\" onclick=\"convertToInteractive('df-1aafce83-b29c-4522-b38a-99da217654a8')\"\n",
              "              title=\"Convert this dataframe to an interactive table.\"\n",
              "              style=\"display:none;\">\n",
              "        \n",
              "  <svg xmlns=\"http://www.w3.org/2000/svg\" height=\"24px\"viewBox=\"0 0 24 24\"\n",
              "       width=\"24px\">\n",
              "    <path d=\"M0 0h24v24H0V0z\" fill=\"none\"/>\n",
              "    <path d=\"M18.56 5.44l.94 2.06.94-2.06 2.06-.94-2.06-.94-.94-2.06-.94 2.06-2.06.94zm-11 1L8.5 8.5l.94-2.06 2.06-.94-2.06-.94L8.5 2.5l-.94 2.06-2.06.94zm10 10l.94 2.06.94-2.06 2.06-.94-2.06-.94-.94-2.06-.94 2.06-2.06.94z\"/><path d=\"M17.41 7.96l-1.37-1.37c-.4-.4-.92-.59-1.43-.59-.52 0-1.04.2-1.43.59L10.3 9.45l-7.72 7.72c-.78.78-.78 2.05 0 2.83L4 21.41c.39.39.9.59 1.41.59.51 0 1.02-.2 1.41-.59l7.78-7.78 2.81-2.81c.8-.78.8-2.07 0-2.86zM5.41 20L4 18.59l7.72-7.72 1.47 1.35L5.41 20z\"/>\n",
              "  </svg>\n",
              "      </button>\n",
              "      \n",
              "  <style>\n",
              "    .colab-df-container {\n",
              "      display:flex;\n",
              "      flex-wrap:wrap;\n",
              "      gap: 12px;\n",
              "    }\n",
              "\n",
              "    .colab-df-convert {\n",
              "      background-color: #E8F0FE;\n",
              "      border: none;\n",
              "      border-radius: 50%;\n",
              "      cursor: pointer;\n",
              "      display: none;\n",
              "      fill: #1967D2;\n",
              "      height: 32px;\n",
              "      padding: 0 0 0 0;\n",
              "      width: 32px;\n",
              "    }\n",
              "\n",
              "    .colab-df-convert:hover {\n",
              "      background-color: #E2EBFA;\n",
              "      box-shadow: 0px 1px 2px rgba(60, 64, 67, 0.3), 0px 1px 3px 1px rgba(60, 64, 67, 0.15);\n",
              "      fill: #174EA6;\n",
              "    }\n",
              "\n",
              "    [theme=dark] .colab-df-convert {\n",
              "      background-color: #3B4455;\n",
              "      fill: #D2E3FC;\n",
              "    }\n",
              "\n",
              "    [theme=dark] .colab-df-convert:hover {\n",
              "      background-color: #434B5C;\n",
              "      box-shadow: 0px 1px 3px 1px rgba(0, 0, 0, 0.15);\n",
              "      filter: drop-shadow(0px 1px 2px rgba(0, 0, 0, 0.3));\n",
              "      fill: #FFFFFF;\n",
              "    }\n",
              "  </style>\n",
              "\n",
              "      <script>\n",
              "        const buttonEl =\n",
              "          document.querySelector('#df-1aafce83-b29c-4522-b38a-99da217654a8 button.colab-df-convert');\n",
              "        buttonEl.style.display =\n",
              "          google.colab.kernel.accessAllowed ? 'block' : 'none';\n",
              "\n",
              "        async function convertToInteractive(key) {\n",
              "          const element = document.querySelector('#df-1aafce83-b29c-4522-b38a-99da217654a8');\n",
              "          const dataTable =\n",
              "            await google.colab.kernel.invokeFunction('convertToInteractive',\n",
              "                                                     [key], {});\n",
              "          if (!dataTable) return;\n",
              "\n",
              "          const docLinkHtml = 'Like what you see? Visit the ' +\n",
              "            '<a target=\"_blank\" href=https://colab.research.google.com/notebooks/data_table.ipynb>data table notebook</a>'\n",
              "            + ' to learn more about interactive tables.';\n",
              "          element.innerHTML = '';\n",
              "          dataTable['output_type'] = 'display_data';\n",
              "          await google.colab.output.renderOutput(dataTable, element);\n",
              "          const docLink = document.createElement('div');\n",
              "          docLink.innerHTML = docLinkHtml;\n",
              "          element.appendChild(docLink);\n",
              "        }\n",
              "      </script>\n",
              "    </div>\n",
              "  </div>\n",
              "  "
            ]
          },
          "metadata": {},
          "execution_count": 66
        }
      ]
    },
    {
      "cell_type": "markdown",
      "source": [
        "### Evaluation\n",
        "\n",
        "evaluasi yang digunakan akan menggunakan accuracy"
      ],
      "metadata": {
        "id": "PeEIt2ZjJDUg"
      }
    },
    {
      "cell_type": "markdown",
      "source": [
        "- Variabel anime_ditonton di bawah ini akan mengambil satu row anime buku yang pernah ditonton sebelumnya.\n",
        "\n",
        "- variabel anime_type_ditonton adalah type anime dari anime yang pernah ditonton sebelumnya.\n"
      ],
      "metadata": {
        "id": "VS4KHKSANAyl"
      }
    },
    {
      "cell_type": "code",
      "source": [
        "anime_ditonton = anime[anime.anime_name == anime_ditonton]\n",
        "anime_type_ditonton = anime_ditonton.iloc[0][\"anime_type\"]\n"
      ],
      "metadata": {
        "id": "g_of3wpsI_sx"
      },
      "execution_count": 68,
      "outputs": []
    },
    {
      "cell_type": "code",
      "source": [
        "#variabel anime_recommendation_type yang berisikan sebuah list \n",
        "#type anime yang direkomendasikan oleh sistem\n",
        "\n",
        "anime_recommendation_type = recommendations.anime_type"
      ],
      "metadata": {
        "id": "my2ypd_8I_i_"
      },
      "execution_count": 70,
      "outputs": []
    },
    {
      "cell_type": "code",
      "source": [
        "#proses pengecekan setiap type dari anime yang direkomendasikan jika sama, \n",
        "#maka variabel type_asli akan bertambah 1\n",
        "type_asli = 0\n",
        "for i in range(5):\n",
        "    if anime_recommendation_type[i] == anime_type_ditonton:\n",
        "        type_asli+=1"
      ],
      "metadata": {
        "id": "OEG5VyOEMpnt"
      },
      "execution_count": 71,
      "outputs": []
    },
    {
      "cell_type": "code",
      "source": [
        "Accuracy = type_asli/5*100\n",
        "print(\"Accuracy dari model adalah {}%\".format(Accuracy))"
      ],
      "metadata": {
        "colab": {
          "base_uri": "https://localhost:8080/"
        },
        "id": "t7ASRZcSMqKz",
        "outputId": "5a8bae59-3048-49de-8dba-4d594cd0fdf4"
      },
      "execution_count": 73,
      "outputs": [
        {
          "output_type": "stream",
          "name": "stdout",
          "text": [
            "Accuracy dari model adalah 100.0%\n"
          ]
        }
      ]
    },
    {
      "cell_type": "markdown",
      "source": [
        "## Collaborative Filtering Recommended System \n",
        "\n",
        "Collaborative Based Filtering adalah sistem rekomendasi berdasarkan dari komunitas penyuka anime lain."
      ],
      "metadata": {
        "id": "l3Gv_MLRPHno"
      }
    },
    {
      "cell_type": "markdown",
      "source": [
        "### Data Preparation di collaborative recommended system\n"
      ],
      "metadata": {
        "id": "vGcaRRFrPvyh"
      }
    },
    {
      "cell_type": "code",
      "source": [
        "# Mengubah userID menjadi list tanpa nilai yang sama\n",
        "user_ids = rating_data['user_id'].unique().tolist()\n",
        "print('list user ID: ', user_ids)\n",
        "     \n",
        "# Melakukan encoding userID\n",
        "user_to_user_encoded = {x: i for i, x in enumerate(user_ids)}\n",
        "print('encoded userID : ', user_to_user_encoded)\n",
        "     \n",
        "# Melakukan proses encoding angka ke ke userID\n",
        "user_encoded_to_user = {i: x for i, x in enumerate(user_ids)}\n",
        "print('encoded angka ke userID: ', user_encoded_to_user)"
      ],
      "metadata": {
        "colab": {
          "base_uri": "https://localhost:8080/"
        },
        "id": "5k_4OYGZPtQf",
        "outputId": "ece7cc37-6495-48ba-fd91-a16e8896d690"
      },
      "execution_count": 74,
      "outputs": [
        {
          "output_type": "stream",
          "name": "stdout",
          "text": [
            "list user ID:  [1, 2, 3, 5, 7]\n",
            "encoded userID :  {1: 0, 2: 1, 3: 2, 5: 3, 7: 4}\n",
            "encoded angka ke userID:  {0: 1, 1: 2, 2: 3, 3: 5, 4: 7}\n"
          ]
        }
      ]
    },
    {
      "cell_type": "code",
      "source": [
        "#\n",
        "anime_ids = rating_data['anime_id'].unique().tolist()\n",
        "anime_to_anime_encoded = {x: i for i, x in enumerate(anime_ids)}\n",
        "anime_encoded_to_anime = {i: x for i, x in enumerate(anime_ids)}\n",
        "\n",
        "#petakan user_id dan anime_id ke dataframe yang berkaitan.\n",
        "rating_data['user'] = rating_data['user_id'].map(user_to_user_encoded)\n",
        "rating_data['anime'] = rating_data['anime_id'].map(anime_to_anime_encoded)"
      ],
      "metadata": {
        "colab": {
          "base_uri": "https://localhost:8080/"
        },
        "id": "pONcbwxfQod_",
        "outputId": "44ceb3c0-b2be-482c-c484-d540ec8e7b94"
      },
      "execution_count": 75,
      "outputs": [
        {
          "output_type": "stream",
          "name": "stderr",
          "text": [
            "/usr/local/lib/python3.7/dist-packages/ipykernel_launcher.py:6: SettingWithCopyWarning: \n",
            "A value is trying to be set on a copy of a slice from a DataFrame.\n",
            "Try using .loc[row_indexer,col_indexer] = value instead\n",
            "\n",
            "See the caveats in the documentation: https://pandas.pydata.org/pandas-docs/stable/user_guide/indexing.html#returning-a-view-versus-a-copy\n",
            "  \n",
            "/usr/local/lib/python3.7/dist-packages/ipykernel_launcher.py:7: SettingWithCopyWarning: \n",
            "A value is trying to be set on a copy of a slice from a DataFrame.\n",
            "Try using .loc[row_indexer,col_indexer] = value instead\n",
            "\n",
            "See the caveats in the documentation: https://pandas.pydata.org/pandas-docs/stable/user_guide/indexing.html#returning-a-view-versus-a-copy\n",
            "  import sys\n"
          ]
        }
      ]
    },
    {
      "cell_type": "markdown",
      "source": [
        "cek beberapa hal dalam data seperti jumlah user, type anime, dan mengubah nilai rating menjadi float."
      ],
      "metadata": {
        "id": "rF31Ggf7Rpf0"
      }
    },
    {
      "cell_type": "code",
      "source": [
        "\n",
        "\n",
        "num_users = len(user_encoded_to_user)\n",
        "print(num_users)\n",
        "num_anime = len(anime_to_anime_encoded)\n",
        "print(num_anime)\n",
        "rating_data['user_rating'] = rating_data['user_rating'].values.astype(np.float32)\n",
        "\n",
        "min_rating = min(rating_data['user_rating'])\n",
        "max_rating = max(rating_data['user_rating'])\n",
        " \n",
        "print('Number of User: {}, Number of anime: {}, Min Rating: {}, Max Rating: {}'.format(\n",
        "    num_users, num_anime, min_rating, max_rating\n",
        "))\n",
        "\n"
      ],
      "metadata": {
        "colab": {
          "base_uri": "https://localhost:8080/"
        },
        "id": "cX-3AiBQRXK4",
        "outputId": "3c93f865-06d2-4f82-cb48-e9dc87013bbc"
      },
      "execution_count": 77,
      "outputs": [
        {
          "output_type": "stream",
          "name": "stdout",
          "text": [
            "5\n",
            "616\n",
            "Number of User: 5, Number of anime: 616, Min Rating: 1.0, Max Rating: 10.0\n"
          ]
        },
        {
          "output_type": "stream",
          "name": "stderr",
          "text": [
            "/usr/local/lib/python3.7/dist-packages/ipykernel_launcher.py:5: SettingWithCopyWarning: \n",
            "A value is trying to be set on a copy of a slice from a DataFrame.\n",
            "Try using .loc[row_indexer,col_indexer] = value instead\n",
            "\n",
            "See the caveats in the documentation: https://pandas.pydata.org/pandas-docs/stable/user_guide/indexing.html#returning-a-view-versus-a-copy\n",
            "  \"\"\"\n"
          ]
        }
      ]
    },
    {
      "cell_type": "markdown",
      "source": [
        "### Split Dataset"
      ],
      "metadata": {
        "id": "k2u67CoQStYi"
      }
    },
    {
      "cell_type": "code",
      "source": [
        "rating_data= rating_data.sample(frac=1, random_state=42)\n",
        "rating_data"
      ],
      "metadata": {
        "colab": {
          "base_uri": "https://localhost:8080/",
          "height": 424
        },
        "id": "0cSxTLUAShsw",
        "outputId": "7ed18a19-6873-426a-edaa-bbaedd01cee7"
      },
      "execution_count": 78,
      "outputs": [
        {
          "output_type": "execute_result",
          "data": {
            "text/plain": [
              "     user_id  anime_id  user_rating  user  anime\n",
              "716        5     22147          6.0     3    470\n",
              "566        5     11853          6.0     3    333\n",
              "338        5       245         10.0     3    126\n",
              "457        5      4999          5.0     3    233\n",
              "507        5      8525          3.0     3    280\n",
              "..       ...       ...          ...   ...    ...\n",
              "222        3     20507          8.0     2     68\n",
              "311        5        47          8.0     3    102\n",
              "478        5      6512          2.0     3    253\n",
              "645        5     17777          1.0     3    405\n",
              "307        5        22          5.0     3     98\n",
              "\n",
              "[750 rows x 5 columns]"
            ],
            "text/html": [
              "\n",
              "  <div id=\"df-ce4c73db-13d1-4992-aaac-cc80d0936435\">\n",
              "    <div class=\"colab-df-container\">\n",
              "      <div>\n",
              "<style scoped>\n",
              "    .dataframe tbody tr th:only-of-type {\n",
              "        vertical-align: middle;\n",
              "    }\n",
              "\n",
              "    .dataframe tbody tr th {\n",
              "        vertical-align: top;\n",
              "    }\n",
              "\n",
              "    .dataframe thead th {\n",
              "        text-align: right;\n",
              "    }\n",
              "</style>\n",
              "<table border=\"1\" class=\"dataframe\">\n",
              "  <thead>\n",
              "    <tr style=\"text-align: right;\">\n",
              "      <th></th>\n",
              "      <th>user_id</th>\n",
              "      <th>anime_id</th>\n",
              "      <th>user_rating</th>\n",
              "      <th>user</th>\n",
              "      <th>anime</th>\n",
              "    </tr>\n",
              "  </thead>\n",
              "  <tbody>\n",
              "    <tr>\n",
              "      <th>716</th>\n",
              "      <td>5</td>\n",
              "      <td>22147</td>\n",
              "      <td>6.0</td>\n",
              "      <td>3</td>\n",
              "      <td>470</td>\n",
              "    </tr>\n",
              "    <tr>\n",
              "      <th>566</th>\n",
              "      <td>5</td>\n",
              "      <td>11853</td>\n",
              "      <td>6.0</td>\n",
              "      <td>3</td>\n",
              "      <td>333</td>\n",
              "    </tr>\n",
              "    <tr>\n",
              "      <th>338</th>\n",
              "      <td>5</td>\n",
              "      <td>245</td>\n",
              "      <td>10.0</td>\n",
              "      <td>3</td>\n",
              "      <td>126</td>\n",
              "    </tr>\n",
              "    <tr>\n",
              "      <th>457</th>\n",
              "      <td>5</td>\n",
              "      <td>4999</td>\n",
              "      <td>5.0</td>\n",
              "      <td>3</td>\n",
              "      <td>233</td>\n",
              "    </tr>\n",
              "    <tr>\n",
              "      <th>507</th>\n",
              "      <td>5</td>\n",
              "      <td>8525</td>\n",
              "      <td>3.0</td>\n",
              "      <td>3</td>\n",
              "      <td>280</td>\n",
              "    </tr>\n",
              "    <tr>\n",
              "      <th>...</th>\n",
              "      <td>...</td>\n",
              "      <td>...</td>\n",
              "      <td>...</td>\n",
              "      <td>...</td>\n",
              "      <td>...</td>\n",
              "    </tr>\n",
              "    <tr>\n",
              "      <th>222</th>\n",
              "      <td>3</td>\n",
              "      <td>20507</td>\n",
              "      <td>8.0</td>\n",
              "      <td>2</td>\n",
              "      <td>68</td>\n",
              "    </tr>\n",
              "    <tr>\n",
              "      <th>311</th>\n",
              "      <td>5</td>\n",
              "      <td>47</td>\n",
              "      <td>8.0</td>\n",
              "      <td>3</td>\n",
              "      <td>102</td>\n",
              "    </tr>\n",
              "    <tr>\n",
              "      <th>478</th>\n",
              "      <td>5</td>\n",
              "      <td>6512</td>\n",
              "      <td>2.0</td>\n",
              "      <td>3</td>\n",
              "      <td>253</td>\n",
              "    </tr>\n",
              "    <tr>\n",
              "      <th>645</th>\n",
              "      <td>5</td>\n",
              "      <td>17777</td>\n",
              "      <td>1.0</td>\n",
              "      <td>3</td>\n",
              "      <td>405</td>\n",
              "    </tr>\n",
              "    <tr>\n",
              "      <th>307</th>\n",
              "      <td>5</td>\n",
              "      <td>22</td>\n",
              "      <td>5.0</td>\n",
              "      <td>3</td>\n",
              "      <td>98</td>\n",
              "    </tr>\n",
              "  </tbody>\n",
              "</table>\n",
              "<p>750 rows × 5 columns</p>\n",
              "</div>\n",
              "      <button class=\"colab-df-convert\" onclick=\"convertToInteractive('df-ce4c73db-13d1-4992-aaac-cc80d0936435')\"\n",
              "              title=\"Convert this dataframe to an interactive table.\"\n",
              "              style=\"display:none;\">\n",
              "        \n",
              "  <svg xmlns=\"http://www.w3.org/2000/svg\" height=\"24px\"viewBox=\"0 0 24 24\"\n",
              "       width=\"24px\">\n",
              "    <path d=\"M0 0h24v24H0V0z\" fill=\"none\"/>\n",
              "    <path d=\"M18.56 5.44l.94 2.06.94-2.06 2.06-.94-2.06-.94-.94-2.06-.94 2.06-2.06.94zm-11 1L8.5 8.5l.94-2.06 2.06-.94-2.06-.94L8.5 2.5l-.94 2.06-2.06.94zm10 10l.94 2.06.94-2.06 2.06-.94-2.06-.94-.94-2.06-.94 2.06-2.06.94z\"/><path d=\"M17.41 7.96l-1.37-1.37c-.4-.4-.92-.59-1.43-.59-.52 0-1.04.2-1.43.59L10.3 9.45l-7.72 7.72c-.78.78-.78 2.05 0 2.83L4 21.41c.39.39.9.59 1.41.59.51 0 1.02-.2 1.41-.59l7.78-7.78 2.81-2.81c.8-.78.8-2.07 0-2.86zM5.41 20L4 18.59l7.72-7.72 1.47 1.35L5.41 20z\"/>\n",
              "  </svg>\n",
              "      </button>\n",
              "      \n",
              "  <style>\n",
              "    .colab-df-container {\n",
              "      display:flex;\n",
              "      flex-wrap:wrap;\n",
              "      gap: 12px;\n",
              "    }\n",
              "\n",
              "    .colab-df-convert {\n",
              "      background-color: #E8F0FE;\n",
              "      border: none;\n",
              "      border-radius: 50%;\n",
              "      cursor: pointer;\n",
              "      display: none;\n",
              "      fill: #1967D2;\n",
              "      height: 32px;\n",
              "      padding: 0 0 0 0;\n",
              "      width: 32px;\n",
              "    }\n",
              "\n",
              "    .colab-df-convert:hover {\n",
              "      background-color: #E2EBFA;\n",
              "      box-shadow: 0px 1px 2px rgba(60, 64, 67, 0.3), 0px 1px 3px 1px rgba(60, 64, 67, 0.15);\n",
              "      fill: #174EA6;\n",
              "    }\n",
              "\n",
              "    [theme=dark] .colab-df-convert {\n",
              "      background-color: #3B4455;\n",
              "      fill: #D2E3FC;\n",
              "    }\n",
              "\n",
              "    [theme=dark] .colab-df-convert:hover {\n",
              "      background-color: #434B5C;\n",
              "      box-shadow: 0px 1px 3px 1px rgba(0, 0, 0, 0.15);\n",
              "      filter: drop-shadow(0px 1px 2px rgba(0, 0, 0, 0.3));\n",
              "      fill: #FFFFFF;\n",
              "    }\n",
              "  </style>\n",
              "\n",
              "      <script>\n",
              "        const buttonEl =\n",
              "          document.querySelector('#df-ce4c73db-13d1-4992-aaac-cc80d0936435 button.colab-df-convert');\n",
              "        buttonEl.style.display =\n",
              "          google.colab.kernel.accessAllowed ? 'block' : 'none';\n",
              "\n",
              "        async function convertToInteractive(key) {\n",
              "          const element = document.querySelector('#df-ce4c73db-13d1-4992-aaac-cc80d0936435');\n",
              "          const dataTable =\n",
              "            await google.colab.kernel.invokeFunction('convertToInteractive',\n",
              "                                                     [key], {});\n",
              "          if (!dataTable) return;\n",
              "\n",
              "          const docLinkHtml = 'Like what you see? Visit the ' +\n",
              "            '<a target=\"_blank\" href=https://colab.research.google.com/notebooks/data_table.ipynb>data table notebook</a>'\n",
              "            + ' to learn more about interactive tables.';\n",
              "          element.innerHTML = '';\n",
              "          dataTable['output_type'] = 'display_data';\n",
              "          await google.colab.output.renderOutput(dataTable, element);\n",
              "          const docLink = document.createElement('div');\n",
              "          docLink.innerHTML = docLinkHtml;\n",
              "          element.appendChild(docLink);\n",
              "        }\n",
              "      </script>\n",
              "    </div>\n",
              "  </div>\n",
              "  "
            ]
          },
          "metadata": {},
          "execution_count": 78
        }
      ]
    },
    {
      "cell_type": "markdown",
      "source": [
        "membagi dataset yang ada menjadi 70% untuk latihan dan 30% untuk validasi"
      ],
      "metadata": {
        "id": "w4YubUQkTm4M"
      }
    },
    {
      "cell_type": "code",
      "source": [
        "x = rating_data[['user', 'anime']].values\n",
        " \n",
        "y = rating_data['user_rating'].apply(lambda x: (x - min_rating) / (max_rating - min_rating)).values\n",
        " \n",
        "train_indices = int(0.70 * rating_data.shape[0])\n",
        "x_train, x_val, y_train, y_val = (\n",
        "    x[:train_indices],\n",
        "    x[train_indices:],\n",
        "    y[:train_indices],\n",
        "    y[train_indices:]\n",
        ")\n",
        " \n",
        "print(x, y)"
      ],
      "metadata": {
        "colab": {
          "base_uri": "https://localhost:8080/"
        },
        "id": "HOBVC-FETYK_",
        "outputId": "2393428f-ec1d-49a0-f192-0eb454366466"
      },
      "execution_count": 80,
      "outputs": [
        {
          "output_type": "stream",
          "name": "stdout",
          "text": [
            "[[  3 470]\n",
            " [  3 333]\n",
            " [  3 126]\n",
            " ...\n",
            " [  3 253]\n",
            " [  3 405]\n",
            " [  3  98]] [0.55555556 0.55555556 1.         0.44444444 0.22222222 0.55555556\n",
            " 0.66666667 0.22222222 0.33333333 0.66666667 0.77777778 0.\n",
            " 0.         0.66666667 0.44444444 0.44444444 0.55555556 0.\n",
            " 0.33333333 0.11111111 0.11111111 0.         0.11111111 0.66666667\n",
            " 0.66666667 1.         0.         0.         0.44444444 0.77777778\n",
            " 0.22222222 0.33333333 0.22222222 0.66666667 0.44444444 0.55555556\n",
            " 0.44444444 0.11111111 0.55555556 0.66666667 0.55555556 0.77777778\n",
            " 0.77777778 0.44444444 0.77777778 0.66666667 0.77777778 0.33333333\n",
            " 0.11111111 0.11111111 0.55555556 0.22222222 0.44444444 0.22222222\n",
            " 0.         0.55555556 0.11111111 0.77777778 0.44444444 0.77777778\n",
            " 0.77777778 0.22222222 0.77777778 0.77777778 0.         0.11111111\n",
            " 0.         1.         0.         0.66666667 0.44444444 0.33333333\n",
            " 0.55555556 0.77777778 0.66666667 0.44444444 0.55555556 0.88888889\n",
            " 0.66666667 0.44444444 0.44444444 0.66666667 0.66666667 0.88888889\n",
            " 0.66666667 0.44444444 0.66666667 0.44444444 0.77777778 0.88888889\n",
            " 0.77777778 0.66666667 0.66666667 0.66666667 0.55555556 0.33333333\n",
            " 0.33333333 0.66666667 0.55555556 0.         0.77777778 0.77777778\n",
            " 1.         0.33333333 0.22222222 0.77777778 0.77777778 0.77777778\n",
            " 0.44444444 0.66666667 0.88888889 0.         0.66666667 0.77777778\n",
            " 0.         0.77777778 0.88888889 0.11111111 0.88888889 1.\n",
            " 0.44444444 0.66666667 0.66666667 0.         0.66666667 0.11111111\n",
            " 0.66666667 0.77777778 0.11111111 0.77777778 0.88888889 0.66666667\n",
            " 0.55555556 0.44444444 0.         0.33333333 0.55555556 0.44444444\n",
            " 0.66666667 0.66666667 0.         0.55555556 0.66666667 0.55555556\n",
            " 0.55555556 0.44444444 0.55555556 0.33333333 0.77777778 0.44444444\n",
            " 0.77777778 0.33333333 1.         1.         0.66666667 0.66666667\n",
            " 0.         0.88888889 0.         0.22222222 0.66666667 0.77777778\n",
            " 0.55555556 0.33333333 0.44444444 0.22222222 0.55555556 0.55555556\n",
            " 0.55555556 0.66666667 0.55555556 0.22222222 0.         0.66666667\n",
            " 0.         0.66666667 0.66666667 0.88888889 0.88888889 0.\n",
            " 0.11111111 0.77777778 0.44444444 0.88888889 0.77777778 0.88888889\n",
            " 0.66666667 0.77777778 1.         0.77777778 0.44444444 0.\n",
            " 0.55555556 0.55555556 0.33333333 0.66666667 0.44444444 0.66666667\n",
            " 0.44444444 0.66666667 0.88888889 0.66666667 0.66666667 0.88888889\n",
            " 0.         0.77777778 0.88888889 0.66666667 0.44444444 0.33333333\n",
            " 0.77777778 1.         0.66666667 0.55555556 0.66666667 0.55555556\n",
            " 0.66666667 0.66666667 0.22222222 0.66666667 0.44444444 0.88888889\n",
            " 0.77777778 0.77777778 0.         0.11111111 0.22222222 0.\n",
            " 0.         0.77777778 0.66666667 0.11111111 0.66666667 0.77777778\n",
            " 0.11111111 0.         0.11111111 0.77777778 0.66666667 0.88888889\n",
            " 0.66666667 0.66666667 0.11111111 0.44444444 0.66666667 0.66666667\n",
            " 0.33333333 0.77777778 0.22222222 0.66666667 0.         0.66666667\n",
            " 0.         0.55555556 0.66666667 0.         0.66666667 0.88888889\n",
            " 1.         0.77777778 0.11111111 0.66666667 0.11111111 0.77777778\n",
            " 0.66666667 0.77777778 0.77777778 0.44444444 0.77777778 0.88888889\n",
            " 0.88888889 0.44444444 0.         0.77777778 0.88888889 0.33333333\n",
            " 0.44444444 0.55555556 0.44444444 0.66666667 0.66666667 0.66666667\n",
            " 0.11111111 0.         0.22222222 0.11111111 0.22222222 0.44444444\n",
            " 0.33333333 0.22222222 0.88888889 0.         1.         0.66666667\n",
            " 0.66666667 0.77777778 0.66666667 0.55555556 0.88888889 0.11111111\n",
            " 0.         0.88888889 0.         0.         0.33333333 0.44444444\n",
            " 0.         0.88888889 0.         0.33333333 0.77777778 0.22222222\n",
            " 0.11111111 0.88888889 0.66666667 0.66666667 0.22222222 0.66666667\n",
            " 0.88888889 0.77777778 0.33333333 0.33333333 0.77777778 0.11111111\n",
            " 0.         1.         0.77777778 0.33333333 0.66666667 0.44444444\n",
            " 0.55555556 0.88888889 0.11111111 0.66666667 0.77777778 0.22222222\n",
            " 0.66666667 0.44444444 0.66666667 0.66666667 0.11111111 0.77777778\n",
            " 0.77777778 0.33333333 0.66666667 0.11111111 0.44444444 0.\n",
            " 0.77777778 0.11111111 0.11111111 0.11111111 0.77777778 0.66666667\n",
            " 0.66666667 0.44444444 0.77777778 0.88888889 0.55555556 0.\n",
            " 0.55555556 0.11111111 0.22222222 0.44444444 0.11111111 0.\n",
            " 0.66666667 0.66666667 0.22222222 0.         0.66666667 0.77777778\n",
            " 0.33333333 0.55555556 0.22222222 0.         0.77777778 0.\n",
            " 0.44444444 0.33333333 0.77777778 0.44444444 0.66666667 0.22222222\n",
            " 0.44444444 0.         0.55555556 0.33333333 0.88888889 0.\n",
            " 0.66666667 0.66666667 0.77777778 0.22222222 0.55555556 0.88888889\n",
            " 0.         0.55555556 0.55555556 0.44444444 0.         0.77777778\n",
            " 0.11111111 0.44444444 0.77777778 0.22222222 0.77777778 0.66666667\n",
            " 0.         0.11111111 0.77777778 0.11111111 0.44444444 0.44444444\n",
            " 0.66666667 1.         0.77777778 0.55555556 0.         0.66666667\n",
            " 0.22222222 0.22222222 0.         0.77777778 0.77777778 0.66666667\n",
            " 0.44444444 0.55555556 1.         0.88888889 0.55555556 0.11111111\n",
            " 0.55555556 0.44444444 0.77777778 0.88888889 0.33333333 0.77777778\n",
            " 0.77777778 0.77777778 0.88888889 0.66666667 0.77777778 0.88888889\n",
            " 0.66666667 0.66666667 0.55555556 0.88888889 0.66666667 1.\n",
            " 0.55555556 0.22222222 0.11111111 0.44444444 0.         0.77777778\n",
            " 0.77777778 0.66666667 0.66666667 0.77777778 0.55555556 0.77777778\n",
            " 0.88888889 0.11111111 0.44444444 0.88888889 0.11111111 0.11111111\n",
            " 0.66666667 0.         0.44444444 0.44444444 0.11111111 0.44444444\n",
            " 0.         0.66666667 0.55555556 0.55555556 0.66666667 0.77777778\n",
            " 0.88888889 0.44444444 0.55555556 0.66666667 0.44444444 0.44444444\n",
            " 0.         0.77777778 0.88888889 0.55555556 0.22222222 0.55555556\n",
            " 0.         0.44444444 0.44444444 0.44444444 0.66666667 0.\n",
            " 0.44444444 0.55555556 0.22222222 0.22222222 0.66666667 0.88888889\n",
            " 0.33333333 0.66666667 0.77777778 0.55555556 0.55555556 0.55555556\n",
            " 0.66666667 0.         0.44444444 0.44444444 0.55555556 0.22222222\n",
            " 0.55555556 0.77777778 0.66666667 0.         1.         0.66666667\n",
            " 1.         0.77777778 0.55555556 0.33333333 0.77777778 0.44444444\n",
            " 0.88888889 0.44444444 0.22222222 0.44444444 0.44444444 0.44444444\n",
            " 0.66666667 0.66666667 0.66666667 0.         0.22222222 0.66666667\n",
            " 0.77777778 0.66666667 0.77777778 0.88888889 0.22222222 0.66666667\n",
            " 0.66666667 0.         0.77777778 0.11111111 0.55555556 0.44444444\n",
            " 0.         0.11111111 0.44444444 0.55555556 0.44444444 0.77777778\n",
            " 0.33333333 0.55555556 0.66666667 0.77777778 0.         0.44444444\n",
            " 0.66666667 0.77777778 0.66666667 0.22222222 0.66666667 0.77777778\n",
            " 0.55555556 0.88888889 0.55555556 0.66666667 0.66666667 0.\n",
            " 0.77777778 0.22222222 0.55555556 0.77777778 0.44444444 0.77777778\n",
            " 0.11111111 0.44444444 0.77777778 0.88888889 0.77777778 0.66666667\n",
            " 0.66666667 0.11111111 0.77777778 0.55555556 0.         0.44444444\n",
            " 0.77777778 0.77777778 0.22222222 0.44444444 0.55555556 0.66666667\n",
            " 0.77777778 0.66666667 0.77777778 0.88888889 0.66666667 0.77777778\n",
            " 0.55555556 0.22222222 0.22222222 0.33333333 0.77777778 0.44444444\n",
            " 0.11111111 0.77777778 0.77777778 0.66666667 1.         0.77777778\n",
            " 0.11111111 0.88888889 0.66666667 0.66666667 0.77777778 0.44444444\n",
            " 0.88888889 0.66666667 0.77777778 0.22222222 1.         0.77777778\n",
            " 0.88888889 0.         0.55555556 0.77777778 0.33333333 0.22222222\n",
            " 0.77777778 1.         0.         0.         0.66666667 0.66666667\n",
            " 0.         0.55555556 0.         0.11111111 0.44444444 0.33333333\n",
            " 0.77777778 0.22222222 0.77777778 0.77777778 0.         0.55555556\n",
            " 0.55555556 0.88888889 0.66666667 0.66666667 1.         0.44444444\n",
            " 0.66666667 0.         0.11111111 0.66666667 0.88888889 1.\n",
            " 0.55555556 0.66666667 0.77777778 0.55555556 0.22222222 0.77777778\n",
            " 0.55555556 0.22222222 0.66666667 0.66666667 1.         0.\n",
            " 0.66666667 0.77777778 0.33333333 1.         0.66666667 0.77777778\n",
            " 0.77777778 0.         0.66666667 0.11111111 0.66666667 0.77777778\n",
            " 0.44444444 0.66666667 0.77777778 0.77777778 0.22222222 0.11111111\n",
            " 0.66666667 0.33333333 0.77777778 0.44444444 0.33333333 0.11111111\n",
            " 0.66666667 0.66666667 0.22222222 0.66666667 0.22222222 0.44444444\n",
            " 0.66666667 0.66666667 0.77777778 0.55555556 0.66666667 0.55555556\n",
            " 0.66666667 0.77777778 1.         0.66666667 0.66666667 0.\n",
            " 0.66666667 0.66666667 0.11111111 0.55555556 0.22222222 0.33333333\n",
            " 0.11111111 0.11111111 0.22222222 0.44444444 0.88888889 0.44444444\n",
            " 0.22222222 0.66666667 0.55555556 0.44444444 0.77777778 0.11111111\n",
            " 0.55555556 0.66666667 0.         0.55555556 0.88888889 0.77777778\n",
            " 0.44444444 0.77777778 0.77777778 0.11111111 0.         0.44444444]\n"
          ]
        }
      ]
    },
    {
      "cell_type": "markdown",
      "source": [
        "### Modelling\n",
        "\n",
        "model yang dipakai adalah RecommenderNet"
      ],
      "metadata": {
        "id": "ko7QifKaUJLa"
      }
    },
    {
      "cell_type": "code",
      "source": [
        "from tensorflow import keras\n",
        "from tensorflow.keras import layers\n",
        "import tensorflow as tf"
      ],
      "metadata": {
        "id": "_cDm-BZIT81m"
      },
      "execution_count": 81,
      "outputs": []
    },
    {
      "cell_type": "code",
      "source": [
        "class RecommenderNet(tf.keras.Model):\n",
        " \n",
        "  def __init__(self, num_users, num_resto, embedding_size, **kwargs):\n",
        "    super(RecommenderNet, self).__init__(**kwargs)\n",
        "    self.num_users = num_users\n",
        "    self.num_resto = num_resto\n",
        "    self.embedding_size = embedding_size\n",
        "    self.user_embedding = layers.Embedding(\n",
        "        num_users,\n",
        "        embedding_size,\n",
        "        embeddings_initializer = 'he_normal',\n",
        "        embeddings_regularizer = keras.regularizers.l2(1e-6)\n",
        "    )\n",
        "    self.user_bias = layers.Embedding(num_users, 1)\n",
        "    self.resto_embedding = layers.Embedding( \n",
        "        num_resto,\n",
        "        embedding_size,\n",
        "        embeddings_initializer = 'he_normal',\n",
        "        embeddings_regularizer = keras.regularizers.l2(1e-6)\n",
        "    )\n",
        "    self.resto_bias = layers.Embedding(num_resto, 1) \n",
        " \n",
        "  def call(self, inputs):\n",
        "    user_vector = self.user_embedding(inputs[:,0])\n",
        "    user_bias = self.user_bias(inputs[:, 0])\n",
        "    resto_vector = self.resto_embedding(inputs[:, 1])\n",
        "    resto_bias = self.resto_bias(inputs[:, 1]) \n",
        " \n",
        "    dot_user_resto = tf.tensordot(user_vector, resto_vector, 2) \n",
        " \n",
        "    x = dot_user_resto + user_bias + resto_bias\n",
        "    \n",
        "    return tf.nn.sigmoid(x) "
      ],
      "metadata": {
        "id": "cmscp_Z5UcYy"
      },
      "execution_count": 82,
      "outputs": []
    },
    {
      "cell_type": "code",
      "source": [
        "#compile model\n",
        "model = RecommenderNet(num_users, num_anime, 50)\n",
        "\n",
        "model.compile(\n",
        "    loss = tf.keras.losses.BinaryCrossentropy(),\n",
        "    optimizer = keras.optimizers.Adam(learning_rate=0.001),\n",
        "    metrics=[tf.keras.metrics.RootMeanSquaredError()]\n",
        ")"
      ],
      "metadata": {
        "id": "LS1BzZINUjIz"
      },
      "execution_count": 84,
      "outputs": []
    },
    {
      "cell_type": "code",
      "source": [
        "#training\n",
        "history = model.fit(\n",
        "    x = x_train,\n",
        "    y = y_train,\n",
        "    batch_size = 5,\n",
        "    epochs = 20,\n",
        "    validation_data = (x_val, y_val)\n",
        ")\n",
        "\n"
      ],
      "metadata": {
        "colab": {
          "base_uri": "https://localhost:8080/"
        },
        "id": "vqHkPEOgUs1s",
        "outputId": "e983a54a-c959-4909-b4ff-dd9b2b71ffd3"
      },
      "execution_count": 85,
      "outputs": [
        {
          "output_type": "stream",
          "name": "stdout",
          "text": [
            "Epoch 1/20\n",
            "105/105 [==============================] - 2s 9ms/step - loss: 0.7137 - root_mean_squared_error: 0.3067 - val_loss: 0.6898 - val_root_mean_squared_error: 0.2758\n",
            "Epoch 2/20\n",
            "105/105 [==============================] - 1s 5ms/step - loss: 0.7074 - root_mean_squared_error: 0.3012 - val_loss: 0.6809 - val_root_mean_squared_error: 0.2680\n",
            "Epoch 3/20\n",
            "105/105 [==============================] - 1s 6ms/step - loss: 0.6889 - root_mean_squared_error: 0.2850 - val_loss: 0.6759 - val_root_mean_squared_error: 0.2635\n",
            "Epoch 4/20\n",
            "105/105 [==============================] - 1s 5ms/step - loss: 0.6648 - root_mean_squared_error: 0.2659 - val_loss: 0.6717 - val_root_mean_squared_error: 0.2595\n",
            "Epoch 5/20\n",
            "105/105 [==============================] - 1s 5ms/step - loss: 0.6595 - root_mean_squared_error: 0.2607 - val_loss: 0.6675 - val_root_mean_squared_error: 0.2554\n",
            "Epoch 6/20\n",
            "105/105 [==============================] - 1s 5ms/step - loss: 0.6431 - root_mean_squared_error: 0.2457 - val_loss: 0.6644 - val_root_mean_squared_error: 0.2524\n",
            "Epoch 7/20\n",
            "105/105 [==============================] - 1s 6ms/step - loss: 0.6379 - root_mean_squared_error: 0.2406 - val_loss: 0.6611 - val_root_mean_squared_error: 0.2492\n",
            "Epoch 8/20\n",
            "105/105 [==============================] - 1s 5ms/step - loss: 0.6293 - root_mean_squared_error: 0.2320 - val_loss: 0.6596 - val_root_mean_squared_error: 0.2477\n",
            "Epoch 9/20\n",
            "105/105 [==============================] - 1s 5ms/step - loss: 0.6266 - root_mean_squared_error: 0.2294 - val_loss: 0.6580 - val_root_mean_squared_error: 0.2461\n",
            "Epoch 10/20\n",
            "105/105 [==============================] - 0s 4ms/step - loss: 0.6187 - root_mean_squared_error: 0.2211 - val_loss: 0.6564 - val_root_mean_squared_error: 0.2446\n",
            "Epoch 11/20\n",
            "105/105 [==============================] - 0s 3ms/step - loss: 0.6115 - root_mean_squared_error: 0.2139 - val_loss: 0.6558 - val_root_mean_squared_error: 0.2440\n",
            "Epoch 12/20\n",
            "105/105 [==============================] - 0s 3ms/step - loss: 0.6140 - root_mean_squared_error: 0.2167 - val_loss: 0.6550 - val_root_mean_squared_error: 0.2431\n",
            "Epoch 13/20\n",
            "105/105 [==============================] - 0s 3ms/step - loss: 0.6040 - root_mean_squared_error: 0.2053 - val_loss: 0.6541 - val_root_mean_squared_error: 0.2422\n",
            "Epoch 14/20\n",
            "105/105 [==============================] - 0s 3ms/step - loss: 0.6107 - root_mean_squared_error: 0.2130 - val_loss: 0.6539 - val_root_mean_squared_error: 0.2420\n",
            "Epoch 15/20\n",
            "105/105 [==============================] - 0s 3ms/step - loss: 0.6112 - root_mean_squared_error: 0.2122 - val_loss: 0.6531 - val_root_mean_squared_error: 0.2411\n",
            "Epoch 16/20\n",
            "105/105 [==============================] - 0s 3ms/step - loss: 0.6022 - root_mean_squared_error: 0.2031 - val_loss: 0.6531 - val_root_mean_squared_error: 0.2412\n",
            "Epoch 17/20\n",
            "105/105 [==============================] - 0s 2ms/step - loss: 0.5925 - root_mean_squared_error: 0.1925 - val_loss: 0.6526 - val_root_mean_squared_error: 0.2406\n",
            "Epoch 18/20\n",
            "105/105 [==============================] - 0s 2ms/step - loss: 0.5919 - root_mean_squared_error: 0.1911 - val_loss: 0.6526 - val_root_mean_squared_error: 0.2406\n",
            "Epoch 19/20\n",
            "105/105 [==============================] - 0s 3ms/step - loss: 0.5879 - root_mean_squared_error: 0.1875 - val_loss: 0.6526 - val_root_mean_squared_error: 0.2405\n",
            "Epoch 20/20\n",
            "105/105 [==============================] - 0s 3ms/step - loss: 0.5909 - root_mean_squared_error: 0.1894 - val_loss: 0.6527 - val_root_mean_squared_error: 0.2406\n"
          ]
        }
      ]
    },
    {
      "cell_type": "code",
      "source": [
        "#visualisasi metrics\n",
        "plt.plot(history.history['root_mean_squared_error'])\n",
        "plt.plot(history.history['val_root_mean_squared_error'])\n",
        "plt.title('model_metrics')\n",
        "plt.ylabel('root_mean_squared_error')\n",
        "plt.xlabel('epoch')\n",
        "plt.legend(['train', 'test'], loc='upper left')\n",
        "plt.show()"
      ],
      "metadata": {
        "colab": {
          "base_uri": "https://localhost:8080/",
          "height": 295
        },
        "id": "p0VC1yGAU5FY",
        "outputId": "b5d6ff40-c257-46af-9361-b50e1a23a8c5"
      },
      "execution_count": 86,
      "outputs": [
        {
          "output_type": "display_data",
          "data": {
            "text/plain": [
              "<Figure size 432x288 with 1 Axes>"
            ],
            "image/png": "[encoded data removed]"
          },
          "metadata": {
            "needs_background": "light"
          }
        }
      ]
    },
    {
      "cell_type": "markdown",
      "source": [
        "### Mendapatkan Rekomendasi"
      ],
      "metadata": {
        "id": "f4U04KzfVMW9"
      }
    },
    {
      "cell_type": "code",
      "source": [
        "anime_dataset =  anime\n",
        "rating_dataset = rating_data"
      ],
      "metadata": {
        "id": "MVWsWWt4VBx_"
      },
      "execution_count": 87,
      "outputs": []
    },
    {
      "cell_type": "markdown",
      "source": [
        "code dibawah digunakan untuk mengambil user_id secara acak dari rating_dataset. Dari user_id ini perlu mengetahui buku - buku apa saja yang pernah dibaca dan yang belum pernah dibaca, sehingga dapat merekomendasikan buku - buku yang belum dibaca."
      ],
      "metadata": {
        "id": "BTqzPpzwVeKJ"
      }
    },
    {
      "cell_type": "code",
      "source": [
        "user_id = rating_dataset.user_id.sample(1).iloc[0]\n",
        "anime_have_been_watch_by_user = rating_dataset[rating_dataset.user_id == user_id]\n",
        " \n",
        "anime_have_not_been_watch_by_user = anime_dataset[anime_dataset['anime_id'].isin(anime_have_been_watch_by_user.anime_id.values)]['anime_id'] \n",
        "anime_have_not_been_watch_by_user = list(\n",
        "    set(anime_have_not_been_watch_by_user)\n",
        "    .intersection(set(anime_to_anime_encoded.keys()))\n",
        ")\n",
        " \n",
        "anime_have_not_been_watch_by_user = [[anime_to_anime_encoded.get(x)] for x in anime_have_not_been_watch_by_user]\n",
        "user_encoder = user_to_user_encoded.get(user_id)\n",
        "user_book_array = np.hstack(\n",
        "    ([[user_encoder]] * len(anime_have_not_been_watch_by_user), anime_have_not_been_watch_by_user)\n",
        ")"
      ],
      "metadata": {
        "id": "QiZ3nvTNVYcK"
      },
      "execution_count": 89,
      "outputs": []
    },
    {
      "cell_type": "code",
      "source": [
        "#rekomendasi anime\n",
        "ratings = model.predict(user_book_array).flatten()\n",
        " \n",
        "top_ratings_indices = ratings.argsort()[-10:][::-1]\n",
        "recommended_anime_ids = [\n",
        "    anime_encoded_to_anime.get(anime_have_not_been_watch_by_user[x][0]) for x in top_ratings_indices\n",
        "]\n",
        " \n",
        "print('Showing recommendations for users: {}'.format(user_id))\n",
        "print('===' * 9)\n",
        "print('Anime with high ratings from user')\n",
        "print('----' * 8)\n",
        "\n",
        "\n",
        "top_anime_recommended = (\n",
        "    anime_have_been_watch_by_user.sort_values(\n",
        "        by = 'user_rating',\n",
        "        ascending=False\n",
        "    )\n",
        "    .head(5)\n",
        "    .anime_id.values\n",
        ")\n",
        " \n",
        "anime_row = anime_dataset[anime_dataset['anime_id'].isin(top_anime_recommended)]\n",
        "for row in anime_row.itertuples():\n",
        "    print(row.anime_name, ':', row.anime_type)\n",
        " \n",
        "print('----' * 8)\n",
        "print('Top 10 Anime Recommendation for user: {}'.format(user_id))\n",
        "print('----' * 8)\n",
        " \n",
        "recommended_anime= anime_dataset[anime_dataset['anime_id'].isin(recommended_anime_ids)]\n",
        "for row in recommended_anime.itertuples():\n",
        "    print(row.anime_name, ':', row.anime_type)"
      ],
      "metadata": {
        "colab": {
          "base_uri": "https://localhost:8080/"
        },
        "id": "y6anM2K4Xjgk",
        "outputId": "58075053-b17e-4314-9e77-5827a6c62e17"
      },
      "execution_count": 94,
      "outputs": [
        {
          "output_type": "stream",
          "name": "stdout",
          "text": [
            "Showing recommendations for users: 3\n",
            "===========================\n",
            "Anime with high ratings from user\n",
            "--------------------------------\n",
            "Fullmetal Alchemist: Brotherhood : TV\n",
            "Death Note : TV\n",
            "Ano Hi Mita Hana no Namae wo Bokutachi wa Mada Shiranai. : TV\n",
            "Shokugeki no Souma : TV\n",
            "Pokemon: The Origin : Special\n",
            "--------------------------------\n",
            "Top 10 Anime Recommendation for user: 3\n",
            "--------------------------------\n",
            "Sen to Chihiro no Kamikakushi : Movie\n",
            "Ano Hi Mita Hana no Namae wo Bokutachi wa Mada Shiranai. : TV\n",
            "Slam Dunk : TV\n",
            "Magi: The Kingdom of Magic : TV\n",
            "Kotonoha no Niwa : Movie\n",
            "Magi: The Labyrinth of Magic : TV\n",
            "Paprika : Movie\n",
            "Byousoku 5 Centimeter : Movie\n",
            "Pokemon: The Origin : Special\n",
            "Digimon Adventure : TV\n"
          ]
        }
      ]
    }
  ]
}